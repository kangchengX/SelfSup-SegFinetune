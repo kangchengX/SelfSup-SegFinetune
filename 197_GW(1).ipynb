{
  "cells": [
    {
      "cell_type": "markdown",
      "source": [
        "# Drive"
      ],
      "metadata": {
        "id": "nS825KFv5gBg"
      }
    },
    {
      "cell_type": "code",
      "execution_count": null,
      "metadata": {
        "id": "6bmfQkGuHVjh"
      },
      "outputs": [],
      "source": [
        "# mount personal drive folder\n",
        "# could be ignored for simplicity\n",
        "from google.colab import drive\n",
        "drive.mount('/content/drive')\n"
      ]
    },
    {
      "cell_type": "code",
      "execution_count": null,
      "metadata": {
        "id": "XzEma6-8I-bz"
      },
      "outputs": [],
      "source": [
        "# if mount, choose a path in your google Drive\n",
        "# this path contains or will contain all the files used\n",
        "# including, dataset, model weights, etc\n",
        "# you can also set these paths seperatelly at where they are used\n",
        "path='/content/drive/MyDrive/codingres/'"
      ]
    },
    {
      "cell_type": "code",
      "execution_count": null,
      "metadata": {
        "id": "z_5DasP1Jr2B"
      },
      "outputs": [],
      "source": [
        "# if not mount, choose a path in the Colab ephemeral environment\n",
        "path='/'"
      ]
    },
    {
      "cell_type": "markdown",
      "metadata": {
        "id": "yKkoSyXWviHP"
      },
      "source": [
        "# Dataset (class)\n",
        "\n",
        "Dataset class and visulization function"
      ]
    },
    {
      "cell_type": "code",
      "execution_count": null,
      "metadata": {
        "id": "vgl7vt4qkxoX"
      },
      "outputs": [],
      "source": [
        "import torch\n",
        "import os\n",
        "from PIL import Image\n",
        "import numpy as np\n",
        "import torchvision\n",
        "from torchvision import transforms\n",
        "from torch.utils.data import Dataset, DataLoader, random_split\n",
        "from torchvision.transforms import functional as F\n",
        "import matplotlib.pyplot as plt"
      ]
    },
    {
      "cell_type": "code",
      "execution_count": null,
      "metadata": {
        "id": "g0ci_VHsBHGs"
      },
      "outputs": [],
      "source": [
        "class ContDataset(Dataset):\n",
        "  \"\"\"Prepare dataset for contrastive learning\n",
        "\n",
        "  Args:\n",
        "    folder_path (string): Path to the folder with images.\n",
        "    transform (callable, optional): Optional transform to be applied\n",
        "        on a sample.\n",
        "  \"\"\"\n",
        "\n",
        "  def __init__(self, folder_path, folder_path1, transform=None):\n",
        "    self.folder_path = folder_path\n",
        "    self.folder_path1 = folder_path1\n",
        "    self.image_filenames = [f for f in sorted(os.listdir(folder_path)) if os.path.isfile(os.path.join(folder_path, f))]\n",
        "    self.image_filenames1 = [f for f in sorted(os.listdir(folder_path1)) if os.path.isfile(os.path.join(folder_path1, f))]\n",
        "    self.transform = transform\n",
        "\n",
        "  def __len__(self):\n",
        "    # Return the total number of image pairs\n",
        "    # There is one less pair than the number of images\n",
        "    return len(self.image_filenames1) - 1\n",
        "\n",
        "  def __getitem__(self, idx):\n",
        "    if torch.is_tensor(idx):\n",
        "        idx = idx.tolist()\n",
        "\n",
        "    img_name_0 = os.path.join(self.folder_path1, self.image_filenames1[idx])\n",
        "    img_name_1 = os.path.join(self.folder_path, self.image_filenames[idx])\n",
        "    img_name_2 = os.path.join(self.folder_path, self.image_filenames[idx + 1])\n",
        "\n",
        "    image_0 = Image.open(img_name_0)\n",
        "    image_1 = Image.open(img_name_1)\n",
        "    image_2 = Image.open(img_name_2)\n",
        "\n",
        "    if self.transform:\n",
        "        image_0 = self.transform(image_0)\n",
        "        image_1 = self.transform(image_1)\n",
        "        image_2 = self.transform(image_2)\n",
        "\n",
        "    # No label is provided, just the pair of images\n",
        "    return image_0, image_1, image_2\n"
      ]
    },
    {
      "cell_type": "code",
      "execution_count": null,
      "metadata": {
        "id": "BZUfIDL6PIrQ"
      },
      "outputs": [],
      "source": [
        "class MockContDataset(Dataset):\n",
        "  \"\"\"prepare random dataset for contrastive learning\n",
        "\n",
        "  Args:\n",
        "    num_samples (int): Number of samples in the dataset.\n",
        "    image_size (tuple): Size of the generated images (height, width).\n",
        "    transform (callable, optional): Optional transform to be applied\n",
        "        on a sample.\n",
        "  \"\"\"\n",
        "\n",
        "  def __init__(self, num_samples:int, image_size=(224, 224), transform=None):\n",
        "    self.num_samples = num_samples\n",
        "    self.image_size = image_size\n",
        "    self.transform = transform\n",
        "\n",
        "  def __len__(self):\n",
        "    # Return the total number of image pairs\n",
        "    # There is one less pair than the number of images\n",
        "    return self.num_samples - 1\n",
        "\n",
        "  def __getitem__(self, idx):\n",
        "    # Generate random images\n",
        "    image_0 = Image.fromarray(np.random.randint(0, 255, (self.image_size[0], self.image_size[1], 3), dtype=np.uint8))\n",
        "    image_1 = Image.fromarray(np.random.randint(0, 255, (self.image_size[0], self.image_size[1], 3), dtype=np.uint8))\n",
        "    image_2 = Image.fromarray(np.random.randint(0, 255, (self.image_size[0], self.image_size[1], 3), dtype=np.uint8))\n",
        "\n",
        "    if self.transform:\n",
        "        image_0 = self.transform(image_0)\n",
        "        image_1 = self.transform(image_1)\n",
        "        image_2 = self.transform(image_2)\n",
        "\n",
        "    # No label is provided, just the pair of images\n",
        "    return image_0, image_1, image_2"
      ]
    },
    {
      "cell_type": "code",
      "execution_count": null,
      "metadata": {
        "id": "OZ1xe8Meh-8I"
      },
      "outputs": [],
      "source": [
        "class Transform:\n",
        "  \"\"\"transform the images and correspounding pixel-wise lables to a pre-defined shape\"\"\"\n",
        "\n",
        "  def __init__(self, image_size=(224, 224)):\n",
        "    self.image_size = image_size\n",
        "    self.transform = transforms.Compose([\n",
        "        transforms.Resize(image_size),\n",
        "        transforms.ToTensor(),\n",
        "    ])\n",
        "\n",
        "  def __call__(self, img, mask):\n",
        "    img = self.transform(img)\n",
        "    # Assuming mask is a PIL image, resize it as the img and convert to tensor.\n",
        "    mask = F.resize(mask, self.image_size, Image.NEAREST)\n",
        "    mask = torch.tensor(np.array(mask), dtype=torch.long)  # Masks don't need normalization but need to be torch tensors\n",
        "    return img, mask\n"
      ]
    },
    {
      "cell_type": "code",
      "source": [
        "def check_image_shapes(folder_path):\n",
        "  \"\"\"check the modes of data\n",
        "\n",
        "  Args:\n",
        "    folder_path: path of the folder\n",
        "\n",
        "  Returns:\n",
        "    modes: dict with mode as keys and number of files as values\n",
        "    filennames: filenmames with the images whose modes are nor RGB\n",
        "  \"\"\"\n",
        "\n",
        "  modes = {}\n",
        "  filenames = []\n",
        "  for filename in os.listdir(folder_path):\n",
        "    if filename.lower().endswith(('.png', '.jpg', '.jpeg', '.bmp', '.gif')):\n",
        "      image_path = os.path.join(folder_path, filename)\n",
        "      with Image.open(image_path) as img:\n",
        "        # Get image dimensions and channels (mode)\n",
        "        width, height = img.size\n",
        "        mode = img.mode\n",
        "        if mode not in modes:\n",
        "          modes[mode] = 1\n",
        "        else:\n",
        "          modes[mode] += 1\n",
        "\n",
        "        if mode != 'RGB':\n",
        "          filenames.append(filename)\n",
        "  return modes, filenames"
      ],
      "metadata": {
        "id": "kWI5XI9mlVl5"
      },
      "execution_count": null,
      "outputs": []
    },
    {
      "cell_type": "code",
      "execution_count": null,
      "metadata": {
        "id": "AaHrJgimoN__"
      },
      "outputs": [],
      "source": [
        "def seg_visualize(data:tuple, color_background=[255,255,255], color_edge=[255,0,0], transparency=0.75):\n",
        "  '''Visualize the image with the egde\n",
        "\n",
        "  Args:\n",
        "      data: (image,trimap) where images is (channels, width, height) and trimap is (width, height)\n",
        "      color_background: RGB vales to cover the backgroung, i.e. trimap == 2\n",
        "      color_edge: RGB vales to show the edge with transparency, i.e. trimap == 3\n",
        "      transparency: the transparency factor for the edge\n",
        "  '''\n",
        "\n",
        "  image = data[0].numpy()\n",
        "  trimap = data[1].numpy()\n",
        "\n",
        "  # convert to image with (width,height,channels) as shape and unit8 0~255 as values\n",
        "  image = (image * 255).astype(np.uint8)\n",
        "  image = image.transpose((1, 2, 0))\n",
        "\n",
        "  image_original = image.copy()\n",
        "\n",
        "  # show background\n",
        "  image[trimap == 2] = color_background\n",
        "\n",
        "  # show edge\n",
        "  blend = np.array(color_edge, dtype=np.uint8)\n",
        "  mask = trimap == 3\n",
        "  image[mask] = (transparency * image[mask] + (1 - transparency) * blend).astype(np.uint8)\n",
        "\n",
        "  %matplotlib inline\n",
        "  # show the original image and the segmentated one\n",
        "  plt.subplot(1, 2, 1)\n",
        "  plt.imshow(image_original)\n",
        "  plt.axis('off')\n",
        "  plt.title('Original Image')\n",
        "\n",
        "  plt.subplot(1, 2, 2)\n",
        "  plt.imshow(image)\n",
        "  plt.axis('off')\n",
        "  plt.title('Segmentated Image')\n",
        "\n",
        "  plt.show()"
      ]
    },
    {
      "cell_type": "markdown",
      "metadata": {
        "id": "y2dO7EFDPOIf"
      },
      "source": [
        "# Models\n",
        "\n",
        "models class"
      ]
    },
    {
      "cell_type": "code",
      "execution_count": null,
      "metadata": {
        "id": "QqGN9U7bPTNO"
      },
      "outputs": [],
      "source": [
        "import torch.nn as nn\n",
        "import torch.optim as optim\n",
        "from torchvision.models import vit_b_16\n",
        "from torchvision.transforms import functional as F"
      ]
    },
    {
      "cell_type": "code",
      "execution_count": null,
      "metadata": {
        "id": "o_8Ra6BfPWFG"
      },
      "outputs": [],
      "source": [
        "class BaseModel(nn.Module):\n",
        "  \"\"\"base model\n",
        "\n",
        "\n",
        "  Args:\n",
        "      pretrained (bool): true indicates loading pre-trained weights\n",
        "\n",
        "  Attributes:\n",
        "    vit: vistion transformer without classification head\n",
        "  \"\"\"\n",
        "\n",
        "  def __init__(self, pretrained = True):\n",
        "    super().__init__()\n",
        "    self.vit = vit_b_16(pretrained=pretrained)\n",
        "    self.vit.heads = nn.Identity()\n",
        "\n",
        "  def forward(self,x):\n",
        "    outputs = self.vit(x)\n",
        "\n",
        "    return outputs\n"
      ]
    },
    {
      "cell_type": "code",
      "execution_count": null,
      "metadata": {
        "id": "quDfjYDJRoAR"
      },
      "outputs": [],
      "source": [
        "\n",
        "class SelfSuperviseHead(nn.Module):\n",
        "  \"\"\"convert to the original image shape\n",
        "\n",
        "  Args:\n",
        "    dim (int): imput dimension\n",
        "    image_size (tuple[int]): (width,height) of input image\n",
        "  \"\"\"\n",
        "\n",
        "  def __init__(self,dim=768,image_size=(224,224)):\n",
        "    super().__init__()\n",
        "    self.image_size = image_size\n",
        "    self.projection = nn.Linear(dim, 3 * image_size[0] * image_size[1])\n",
        "\n",
        "  def forward(self,x):\n",
        "    batch_size = x.size(0)\n",
        "    outputs = self.projection(x)\n",
        "    outputs = outputs.reshape(batch_size, 3, self.image_size[0], self.image_size[1])\n",
        "\n",
        "    return outputs\n",
        "\n",
        "\n",
        "class SegmentationHead(nn.Module):\n",
        "  \"\"\"segmentation head\n",
        "\n",
        "  Args:\n",
        "    num_class (int): number of classes\n",
        "    dim (int): imput dimension\n",
        "    image_size (tuple[int]): (width,height) of input image\n",
        "    c1, c2, c3 (int): channels in upsampling, c1(input) -> c2 -> c3 -> num_classes(output)\n",
        "\n",
        "  \"\"\"\n",
        "\n",
        "  def __init__(self,num_classes=3,dim=768,image_size=(224,224),c1=64,c2=32,c3=16):\n",
        "    super().__init__()\n",
        "    self.image_size = image_size\n",
        "    self.c1 = c1\n",
        "    self.projection = nn.Linear(dim, c1 * image_size[0] * image_size[1])\n",
        "\n",
        "    # Decoder to upsample the patch representations to the original image resolution\n",
        "    self.decoder = nn.Sequential(\n",
        "        nn.ConvTranspose2d(c1, c2, kernel_size=3, stride=1, padding=1),\n",
        "        nn.ReLU(),\n",
        "        nn.ConvTranspose2d(c2, c3, kernel_size=3, stride=1, padding=1),\n",
        "        nn.ReLU(),\n",
        "        nn.ConvTranspose2d(c3, num_classes, kernel_size=3, stride=1, padding=1),\n",
        "        nn.ReLU(),\n",
        "    )\n",
        "\n",
        "  def forward(self,x):\n",
        "    batch_size = x.size(0)\n",
        "    outputs = self.projection(x)\n",
        "    outputs = outputs.reshape(batch_size, self.c1, self.image_size[0], self.image_size[1])\n",
        "    outputs = self.decoder(outputs)\n",
        "\n",
        "    return outputs\n"
      ]
    },
    {
      "cell_type": "code",
      "execution_count": null,
      "metadata": {
        "id": "rwqqIg6TIlrm"
      },
      "outputs": [],
      "source": [
        "class BaseSelfSupervise(nn.Module):\n",
        "  \"\"\"Base model with selfsupervied head, i.e. projection for selfsupervie learning\n",
        "\n",
        "  Args:\n",
        "    word_dim (int): word vector dimension in ViT\n",
        "    image_size (tuple[int]): (width, height) of imput images\n",
        "    base_model_weights (None|'pretrained'|str|dict), can be:\n",
        "      'pretrained': load the pretrained vit weights automatically\n",
        "      base model path (str): load the weights from model path\n",
        "      base model class (BaseModel): integrate the base model\n",
        "      base model weights (dict): load the weight from this dict\n",
        "      None: do not load pre-trained weights\n",
        "  \"\"\"\n",
        "  def __init__(self, word_dim=768, image_size=(224,224), base_model_weights=None):\n",
        "    super().__init__()\n",
        "\n",
        "    #save attribute\n",
        "    if type(base_model_weights) is BaseModel:\n",
        "      self.base_model = base_model_weights\n",
        "    elif base_model_weights=='pretrain':\n",
        "      self.base_model = BaseModel(True)\n",
        "    else:\n",
        "      self.base_model = BaseModel(False)\n",
        "      if type(base_model_weights) == dict:\n",
        "        self.base_model.load_state_dict(base_model_weights)\n",
        "      elif type(base_model_weights) == str:\n",
        "        self.base_model.load_state_dict(torch.load(base_model_weights))\n",
        "      elif base_model_weights is not None:\n",
        "        raise ValueError('unknown base_model_weights')\n",
        "\n",
        "    self.heads = SelfSuperviseHead()\n",
        "\n",
        "\n",
        "  def forward(self, x):\n",
        "\n",
        "      outputs = self.base_model(x)\n",
        "      outputs = self.heads(outputs)\n",
        "\n",
        "      return outputs\n",
        "\n",
        "\n",
        "class BaseSegmentation(nn.Module):\n",
        "  \"\"\"Base model with segmentation head for segmentation task\n",
        "\n",
        "  Args:\n",
        "    num_classes: number of classes\n",
        "    word_dimm: word vector dimension in ViT\n",
        "    image_size: (width, height) of imput images\n",
        "    c1, c2, c3: channels in upsampling, c1(input) -> c2 -> c3 -> num_classes(output)\n",
        "    base_model_weights (None|'pretrained'|str|dict), can be:\n",
        "      'pretrained': load the pretrained vit weights automatically\n",
        "      base model path (str): load the weights from model path\n",
        "      base model class (BaseModel): integrate the base model\n",
        "      base model weights (dict): load the weight from this dict\n",
        "      None: do not load pre-trained weights\n",
        "  \"\"\"\n",
        "\n",
        "  def __init__(self, num_classes=3, word_dim=768, image_size=(224,224), c1=64,c2=32,c3=16, base_model_weights=None):\n",
        "    super().__init__()\n",
        "\n",
        "    #save attribute\n",
        "    if type(base_model_weights) is BaseModel:\n",
        "      self.base_model = base_model_weights\n",
        "    elif base_model_weights=='pretrain':\n",
        "      self.base_model = BaseModel(True)\n",
        "    else:\n",
        "      self.base_model = BaseModel(False)\n",
        "      if type(base_model_weights) == dict:\n",
        "        self.base_model.load_state_dict(base_model_weights)\n",
        "      elif type(base_model_weights) == str:\n",
        "        self.base_model.load_state_dict(torch.load(base_model_weights))\n",
        "      elif base_model_weights is not None:\n",
        "        raise ValueError('unknown base_model_weights')\n",
        "\n",
        "    self.heads = SegmentationHead(num_classes,word_dim,image_size,c1,c2,c3)\n",
        "\n",
        "\n",
        "  def forward(self, x):\n",
        "\n",
        "      outputs = self.base_model(x)\n",
        "      outputs = self.heads(outputs)\n",
        "\n",
        "      return outputs\n"
      ]
    },
    {
      "cell_type": "code",
      "execution_count": null,
      "metadata": {
        "id": "1xCCXwCblJ5k"
      },
      "outputs": [],
      "source": [
        "class ViTSegmentation(nn.Module):\n",
        "  \"\"\"ViT with decoder for segmentation task\n",
        "\n",
        "  Args:\n",
        "    num_classes: number of classes\n",
        "    word_dimm: word vector dimension in ViT\n",
        "    image_size: (width, height) of imput images\n",
        "    c1, c2, c3: channels in upsampling, c1(input) -> c2 -> c3 -> num_classes(output)\n",
        "    pretrained: bool, true indicates pre-trained weights for vit_b_16\n",
        "  \"\"\"\n",
        "\n",
        "  def __init__(self, num_classes=3, word_dim=768, image_size=(224,224), c1=64,c2=32,c3=16, pretrained=True):\n",
        "    super().__init__()\n",
        "\n",
        "    #save attribute\n",
        "    self.image_size = image_size\n",
        "    self.c1 = c1\n",
        "\n",
        "    # Load a pretrained ViT model\n",
        "    self.vit = vit_b_16(pretrained=pretrained)\n",
        "    self.vit.heads = nn.Identity()  # Remove the classification head\n",
        "    self.projection = nn.Linear(word_dim, c1 * image_size[0] * image_size[1])\n",
        "\n",
        "    # Decoder to upsample the patch representations to the original image resolution\n",
        "    self.decoder = nn.Sequential(\n",
        "        nn.ConvTranspose2d(c1, c2, kernel_size=3, stride=1, padding=1),\n",
        "        nn.ReLU(),\n",
        "        nn.ConvTranspose2d(c2, c3, kernel_size=3, stride=1, padding=1),\n",
        "        nn.ReLU(),\n",
        "        nn.ConvTranspose2d(c3, num_classes, kernel_size=3, stride=1, padding=1),\n",
        "        nn.ReLU(),\n",
        "    )\n",
        "\n",
        "  def forward(self, x):\n",
        "    # ViT outputs one feature vector per patch, plus a class token\n",
        "    # Here, we reshape the patch features to a feature map and pass it through the decoder\n",
        "    batch_size = x.size(0)\n",
        "\n",
        "    vit_features = self.vit(x)\n",
        "    x = self.projection(vit_features)\n",
        "\n",
        "    x = x.reshape(batch_size, self.c1, self.image_size[0], self.image_size[1])\n",
        "    out = self.decoder(x)\n",
        "\n",
        "    return out"
      ]
    },
    {
      "cell_type": "code",
      "execution_count": null,
      "metadata": {
        "id": "ZjrPYEj_mZfY"
      },
      "outputs": [],
      "source": [
        "## mae\n",
        "\n",
        "class Decoder(nn.Module):\n",
        "    def __init__(self, latent_dim, hidden_dim, output_dim):\n",
        "        super(Decoder, self).__init__()\n",
        "\n",
        "        self.decoder = nn.Sequential(\n",
        "            nn.Linear(latent_dim, hidden_dim),\n",
        "            nn.ReLU(),\n",
        "            nn.Linear(hidden_dim, output_dim)\n",
        "        )\n",
        "\n",
        "    def forward(self, x):\n",
        "        return self.decoder(x)\n",
        "\n",
        "\n",
        "class MaskedAutoEncoder(nn.Module):\n",
        "    def __init__(self, encoder, decoder):\n",
        "        super(MaskedAutoEncoder, self).__init__()\n",
        "        self.encoder = encoder\n",
        "        self.decoder = decoder\n",
        "\n",
        "    def forward(self, x, mask):\n",
        "        x_masked = mask * x\n",
        "        encode_patch = self.encoder(x_masked)\n",
        "        reconstruct = self.decoder(encode_patch)\n",
        "\n",
        "        return reconstruct"
      ]
    },
    {
      "cell_type": "markdown",
      "metadata": {
        "id": "AzKo7ofKDKsT"
      },
      "source": [
        "# Loss\n",
        "\n",
        "loss and accuracy functions"
      ]
    },
    {
      "cell_type": "code",
      "execution_count": null,
      "metadata": {
        "id": "l5gZW82mnZEM"
      },
      "outputs": [],
      "source": [
        "import torch.nn.functional as Func"
      ]
    },
    {
      "cell_type": "code",
      "execution_count": null,
      "metadata": {
        "id": "dNBSyEdhkggI"
      },
      "outputs": [],
      "source": [
        "class ContrastiveLoss(nn.Module):\n",
        "    def __init__(self, margin=1.0):\n",
        "        super(ContrastiveLoss, self).__init__()\n",
        "        self.margin = margin\n",
        "\n",
        "    def forward(self, anchor, positive, negative):\n",
        "        # Calculate the positive pair distance\n",
        "        pos_dist = Func.pairwise_distance(anchor, positive)\n",
        "        # Calculate the negative pair distance\n",
        "        neg_dist = Func.pairwise_distance(anchor, negative)\n",
        "\n",
        "        # Calculate the contrastive loss\n",
        "        loss = torch.mean((pos_dist ** 2) + torch.clamp(self.margin - neg_dist, min=0.0) ** 2)\n",
        "\n",
        "        return loss\n",
        "\n",
        "contrastive_loss = ContrastiveLoss(margin=1.0)"
      ]
    },
    {
      "cell_type": "code",
      "execution_count": null,
      "metadata": {
        "id": "GMQwhuHtDj-t"
      },
      "outputs": [],
      "source": [
        "def dice_loss(pred:torch.Tensor, target:torch.Tensor, smooth=1.0):\n",
        "    '''calculate dice loss\n",
        "\n",
        "    Args:\n",
        "        pred: output of model, (batch_size, num_class, width, height)\n",
        "        target: true prediction for eac pixel, (batch_size, width, height)\n",
        "        smooth: smooth parameter for dice loss\n",
        "\n",
        "    Return:\n",
        "        dice_loss: dice loss\n",
        "    '''\n",
        "\n",
        "    _, num_classes, _, _ = pred.shape\n",
        "    target = target -1 # convert values from 1-3 to 0-2\n",
        "\n",
        "    assert target.min() >= 0 and target.max() < num_classes, 'target contains invalid class indices'\n",
        "\n",
        "    pred = torch.nn.functional.softmax(pred, dim=1)  # Convert logits to probabilities\n",
        "\n",
        "    # convert targets, trimap, to one shot\n",
        "    # (batch_size, width, height) -> (batch_size, 3, width, height)\n",
        "    targets_one_hot = torch.nn.functional.one_hot(target, num_classes).permute(0, 3, 1, 2)\n",
        "    targets_one_hot = targets_one_hot.type_as(pred)\n",
        "\n",
        "    # calculate dice_score for each (batch,class)\n",
        "    intersection = torch.sum(pred * targets_one_hot, dim=(2, 3))  # sum over width and height\n",
        "    union = torch.sum(pred, dim=(2, 3)) + torch.sum(targets_one_hot, dim=(2, 3))\n",
        "    dice_score = (2. * intersection + smooth) / (union + smooth)\n",
        "\n",
        "    dice_loss = 1. - dice_score.mean() # aveerage over batch and num_classes\n",
        "\n",
        "    return dice_loss"
      ]
    },
    {
      "cell_type": "code",
      "execution_count": null,
      "metadata": {
        "id": "mDhY37phDj-v"
      },
      "outputs": [],
      "source": [
        "def pixel_wise_accuracy(pred:torch.Tensor,target:torch.Tensor) -> float :\n",
        "    '''calculate pixe-wise accuracy\n",
        "\n",
        "    Args:\n",
        "        pred: output (logits) of model, (batch_size, num_classes, width,height)\n",
        "        target: ground truth, trimap\n",
        "    Returns:\n",
        "        accuracy: pixel accuracy\n",
        "    '''\n",
        "\n",
        "    pred_tri = torch.argmax(pred,axis=1)\n",
        "    target = target - 1\n",
        "\n",
        "    accuracy = torch.sum(pred_tri == target) / pred_tri.numel()\n",
        "\n",
        "    return accuracy.item()\n"
      ]
    },
    {
      "cell_type": "markdown",
      "metadata": {
        "id": "XmMMTxHdDISz"
      },
      "source": [
        "### test loss"
      ]
    },
    {
      "cell_type": "code",
      "execution_count": null,
      "metadata": {
        "colab": {
          "base_uri": "https://localhost:8080/"
        },
        "id": "n7LiMkqnDj-u",
        "outputId": "21945a28-683f-4c4c-cfb0-123b359bfa4e"
      },
      "outputs": [
        {
          "output_type": "stream",
          "name": "stdout",
          "text": [
            "0.0\n"
          ]
        }
      ],
      "source": [
        "## test dice loss\n",
        "targets = torch.tensor([\n",
        "    [[1,1],[2,2]],\n",
        "    [[1,1],[2,2]]\n",
        "])\n",
        "\n",
        "preds = torch.tensor([\n",
        "    [\n",
        "        [[10,10],[0,0]],\n",
        "        [[0,0],[10,10]]\n",
        "    ],\n",
        "    [\n",
        "        [[10,10],[0,0]],\n",
        "        [[0,0],[10,10]]\n",
        "    ]\n",
        "]).type(torch.float32)\n",
        "\n",
        "## should be close to 0\n",
        "print(np.round(dice_loss(preds,targets).numpy(),3))"
      ]
    },
    {
      "cell_type": "code",
      "execution_count": null,
      "metadata": {
        "colab": {
          "base_uri": "https://localhost:8080/"
        },
        "id": "IAjADnkZDj-v",
        "outputId": "421230a9-a18f-4c45-e561-71274512a828"
      },
      "outputs": [
        {
          "output_type": "stream",
          "name": "stdout",
          "text": [
            "1.0\n"
          ]
        }
      ],
      "source": [
        "## test dice loss\n",
        "targets = torch.tensor([\n",
        "    [[1,1],[2,2]],\n",
        "    [[1,1],[2,2]]\n",
        "])\n",
        "\n",
        "preds = torch.tensor([\n",
        "    [\n",
        "        [[10,10],[0,0]],\n",
        "        [[0,0],[10,10]]\n",
        "    ],\n",
        "    [\n",
        "        [[10,10],[0,0]],\n",
        "        [[0,0],[10,10]]\n",
        "    ]\n",
        "]).type(torch.float32)\n",
        "\n",
        "## should be close to 1\n",
        "print(np.round(pixel_wise_accuracy(preds,targets),3))"
      ]
    },
    {
      "cell_type": "code",
      "execution_count": null,
      "metadata": {
        "colab": {
          "base_uri": "https://localhost:8080/"
        },
        "id": "Exe-drkd0pZb",
        "outputId": "9f6e6783-85d4-4a5f-bb30-67956c50193d"
      },
      "outputs": [
        {
          "output_type": "stream",
          "name": "stdout",
          "text": [
            "tensor(1.0000e-11)\n",
            "tensor(1.0000e-11)\n"
          ]
        }
      ],
      "source": [
        "## test contrastive loss\n",
        "anchor = torch.randn((4,10))\n",
        "positive = anchor\n",
        "negative = anchor - 10\n",
        "# should be close to 0\n",
        "print(contrastive_loss(anchor,positive,negative))\n",
        "\n",
        "anchor = torch.randn((4,4,10))\n",
        "positive = anchor\n",
        "negative = anchor - 10\n",
        "\n",
        "# should be close to 0\n",
        "print(contrastive_loss(anchor,positive,negative))"
      ]
    },
    {
      "cell_type": "markdown",
      "metadata": {
        "id": "_rB-YQA14Crl"
      },
      "source": [
        "# Pre-Train\n",
        "\n",
        "different pre-training processes. Base Model + SelfSupervise Head is selected now"
      ]
    },
    {
      "cell_type": "code",
      "execution_count": null,
      "metadata": {
        "id": "U8g9l54R_pWH"
      },
      "outputs": [],
      "source": [
        "%%capture\n",
        "!unzip {path+'data.zip'}"
      ]
    },
    {
      "cell_type": "code",
      "execution_count": null,
      "metadata": {
        "id": "kKapUMKt_u4w"
      },
      "outputs": [],
      "source": [
        "%%capture\n",
        "!unzip {path+'aug_data.zip'}"
      ]
    },
    {
      "cell_type": "code",
      "source": [
        "!unzip \"/content/drive/MyDrive/Copy of data.zip\""
      ],
      "metadata": {
        "id": "B1MZt2T5JE2H"
      },
      "execution_count": null,
      "outputs": []
    },
    {
      "cell_type": "code",
      "source": [
        "!unzip \"/content/drive/MyDrive/Copy of aug_data.zip\""
      ],
      "metadata": {
        "id": "za3DLUIuJWK5"
      },
      "execution_count": null,
      "outputs": []
    },
    {
      "cell_type": "code",
      "source": [
        "!ls -1 /content/data | wc -l"
      ],
      "metadata": {
        "colab": {
          "base_uri": "https://localhost:8080/"
        },
        "id": "iXBqqRroKGxG",
        "outputId": "099d0ad5-cda8-4aa1-948c-9f23be11743a"
      },
      "execution_count": null,
      "outputs": [
        {
          "output_type": "stream",
          "name": "stdout",
          "text": [
            "48068\n"
          ]
        }
      ]
    },
    {
      "cell_type": "code",
      "source": [
        "!ls -1 /content/aug_data | wc -l"
      ],
      "metadata": {
        "colab": {
          "base_uri": "https://localhost:8080/"
        },
        "id": "4Y6wIFkuKME2",
        "outputId": "479123bf-73b2-434c-e81d-ff2e6f4e468a"
      },
      "execution_count": null,
      "outputs": [
        {
          "output_type": "stream",
          "name": "stdout",
          "text": [
            "96136\n"
          ]
        }
      ]
    },
    {
      "cell_type": "code",
      "source": [
        "## check\n",
        "folder_path = '/content/data'\n",
        "modes, filenames = check_image_shapes(folder_path)\n",
        "print(modes)"
      ],
      "metadata": {
        "colab": {
          "base_uri": "https://localhost:8080/"
        },
        "id": "I_uW7lKgDm6R",
        "outputId": "6b023a5b-1037-43ba-df7e-13a7466b0b9e"
      },
      "execution_count": null,
      "outputs": [
        {
          "output_type": "stream",
          "name": "stdout",
          "text": [
            "{'RGB': 48062}\n"
          ]
        }
      ]
    },
    {
      "cell_type": "code",
      "source": [
        "folder_path = '/content/aug_data'\n",
        "modes,_ = check_image_shapes(folder_path)\n",
        "print(modes)"
      ],
      "metadata": {
        "colab": {
          "base_uri": "https://localhost:8080/"
        },
        "id": "FCvLns6nFv5B",
        "outputId": "aaa0f339-a0fa-4672-93b9-cdd1a60b0e67"
      },
      "execution_count": null,
      "outputs": [
        {
          "output_type": "stream",
          "name": "stdout",
          "text": [
            "{'RGB': 96124}\n"
          ]
        }
      ]
    },
    {
      "cell_type": "code",
      "execution_count": null,
      "metadata": {
        "id": "eIFYcyhn_kvE"
      },
      "outputs": [],
      "source": [
        "# Define a transform to convert the images to PyTorch tensors and any other desired transformations\n",
        "transform = transforms.Compose([\n",
        "    transforms.Resize((224, 224)),\n",
        "    transforms.ToTensor(),\n",
        "])"
      ]
    },
    {
      "cell_type": "code",
      "execution_count": null,
      "metadata": {
        "id": "hlh0BhKH_4k3"
      },
      "outputs": [],
      "source": [
        "## load data\n",
        "\n",
        "dataset = ContDataset(folder_path='/content/aug_data', folder_path1='/content/data', transform=transform)\n",
        "dataloader = DataLoader(dataset, batch_size=4, shuffle=False)"
      ]
    },
    {
      "cell_type": "code",
      "execution_count": null,
      "metadata": {
        "id": "Xd7d4aIUAldo"
      },
      "outputs": [],
      "source": [
        "## load random data\n",
        "##\n",
        "\n",
        "dataset = MockContDataset(num_samples = 120, transform = transform)\n",
        "dataloader = DataLoader(dataset, batch_size=4, shuffle=False)"
      ]
    },
    {
      "cell_type": "markdown",
      "metadata": {
        "id": "gDMM-W5aVdqX"
      },
      "source": [
        "## Base Model + SelfSupervise Head\n",
        "\n",
        "pre-trained model and the finetuned model have same base model / backbone but different heads"
      ]
    },
    {
      "cell_type": "code",
      "execution_count": null,
      "metadata": {
        "id": "4Brw_3mI37EB"
      },
      "outputs": [],
      "source": [
        "## pre-train model\n",
        "\n",
        "model = BaseSelfSupervise(base_model_weights=None)\n",
        "if torch.cuda.device_count() > 1:\n",
        "  print(f\"using {torch.cuda.device_count()} GPUs\")\n",
        "  model = nn.DataParallel(model)\n",
        "\n",
        "model.to(\"cuda\")\n"
      ]
    },
    {
      "cell_type": "code",
      "execution_count": null,
      "metadata": {
        "colab": {
          "base_uri": "https://localhost:8080/",
          "height": 1000
        },
        "id": "OqC0Gx7R6jJG",
        "outputId": "65234387-b761-4ea3-d10a-5bdec66c8aa9"
      },
      "outputs": [
        {
          "output_type": "error",
          "ename": "RuntimeError",
          "evalue": "stack expects each tensor to be equal size, but got [3, 224, 224] at entry 0 and [4, 224, 224] at entry 2",
          "traceback": [
            "\u001b[0;31m---------------------------------------------------------------------------\u001b[0m",
            "\u001b[0;31mRuntimeError\u001b[0m                              Traceback (most recent call last)",
            "\u001b[0;32m<ipython-input-27-39b903e4823d>\u001b[0m in \u001b[0;36m<cell line: 7>\u001b[0;34m()\u001b[0m\n\u001b[1;32m      6\u001b[0m \u001b[0mmodel\u001b[0m\u001b[0;34m.\u001b[0m\u001b[0mtrain\u001b[0m\u001b[0;34m(\u001b[0m\u001b[0;34m)\u001b[0m\u001b[0;34m\u001b[0m\u001b[0;34m\u001b[0m\u001b[0m\n\u001b[1;32m      7\u001b[0m \u001b[0;32mfor\u001b[0m \u001b[0mepoch\u001b[0m \u001b[0;32min\u001b[0m \u001b[0mrange\u001b[0m\u001b[0;34m(\u001b[0m\u001b[0;36m1\u001b[0m\u001b[0;34m)\u001b[0m\u001b[0;34m:\u001b[0m\u001b[0;34m\u001b[0m\u001b[0;34m\u001b[0m\u001b[0m\n\u001b[0;32m----> 8\u001b[0;31m   \u001b[0;32mfor\u001b[0m \u001b[0mx\u001b[0m\u001b[0;34m,\u001b[0m \u001b[0mz1\u001b[0m\u001b[0;34m,\u001b[0m \u001b[0mz2\u001b[0m \u001b[0;32min\u001b[0m \u001b[0mdataloader\u001b[0m\u001b[0;34m:\u001b[0m\u001b[0;34m\u001b[0m\u001b[0;34m\u001b[0m\u001b[0m\n\u001b[0m\u001b[1;32m      9\u001b[0m     \u001b[0minputs\u001b[0m\u001b[0;34m,\u001b[0m \u001b[0mx1\u001b[0m\u001b[0;34m,\u001b[0m \u001b[0mx2\u001b[0m \u001b[0;34m=\u001b[0m \u001b[0mx\u001b[0m\u001b[0;34m.\u001b[0m\u001b[0mto\u001b[0m\u001b[0;34m(\u001b[0m\u001b[0;34m\"cuda\"\u001b[0m\u001b[0;34m)\u001b[0m\u001b[0;34m.\u001b[0m\u001b[0mhalf\u001b[0m\u001b[0;34m(\u001b[0m\u001b[0;34m)\u001b[0m\u001b[0;34m,\u001b[0m \u001b[0mz1\u001b[0m\u001b[0;34m.\u001b[0m\u001b[0mto\u001b[0m\u001b[0;34m(\u001b[0m\u001b[0;34m\"cuda\"\u001b[0m\u001b[0;34m)\u001b[0m\u001b[0;34m.\u001b[0m\u001b[0mhalf\u001b[0m\u001b[0;34m(\u001b[0m\u001b[0;34m)\u001b[0m\u001b[0;34m,\u001b[0m \u001b[0mz2\u001b[0m\u001b[0;34m.\u001b[0m\u001b[0mto\u001b[0m\u001b[0;34m(\u001b[0m\u001b[0;34m\"cuda\"\u001b[0m\u001b[0;34m)\u001b[0m\u001b[0;34m.\u001b[0m\u001b[0mhalf\u001b[0m\u001b[0;34m(\u001b[0m\u001b[0;34m)\u001b[0m\u001b[0;34m\u001b[0m\u001b[0;34m\u001b[0m\u001b[0m\n\u001b[1;32m     10\u001b[0m     \u001b[0moptimizer\u001b[0m\u001b[0;34m.\u001b[0m\u001b[0mzero_grad\u001b[0m\u001b[0;34m(\u001b[0m\u001b[0;34m)\u001b[0m\u001b[0;34m\u001b[0m\u001b[0;34m\u001b[0m\u001b[0m\n",
            "\u001b[0;32m/usr/local/lib/python3.10/dist-packages/torch/utils/data/dataloader.py\u001b[0m in \u001b[0;36m__next__\u001b[0;34m(self)\u001b[0m\n\u001b[1;32m    629\u001b[0m                 \u001b[0;31m# TODO(https://github.com/pytorch/pytorch/issues/76750)\u001b[0m\u001b[0;34m\u001b[0m\u001b[0;34m\u001b[0m\u001b[0m\n\u001b[1;32m    630\u001b[0m                 \u001b[0mself\u001b[0m\u001b[0;34m.\u001b[0m\u001b[0m_reset\u001b[0m\u001b[0;34m(\u001b[0m\u001b[0;34m)\u001b[0m  \u001b[0;31m# type: ignore[call-arg]\u001b[0m\u001b[0;34m\u001b[0m\u001b[0;34m\u001b[0m\u001b[0m\n\u001b[0;32m--> 631\u001b[0;31m             \u001b[0mdata\u001b[0m \u001b[0;34m=\u001b[0m \u001b[0mself\u001b[0m\u001b[0;34m.\u001b[0m\u001b[0m_next_data\u001b[0m\u001b[0;34m(\u001b[0m\u001b[0;34m)\u001b[0m\u001b[0;34m\u001b[0m\u001b[0;34m\u001b[0m\u001b[0m\n\u001b[0m\u001b[1;32m    632\u001b[0m             \u001b[0mself\u001b[0m\u001b[0;34m.\u001b[0m\u001b[0m_num_yielded\u001b[0m \u001b[0;34m+=\u001b[0m \u001b[0;36m1\u001b[0m\u001b[0;34m\u001b[0m\u001b[0;34m\u001b[0m\u001b[0m\n\u001b[1;32m    633\u001b[0m             \u001b[0;32mif\u001b[0m \u001b[0mself\u001b[0m\u001b[0;34m.\u001b[0m\u001b[0m_dataset_kind\u001b[0m \u001b[0;34m==\u001b[0m \u001b[0m_DatasetKind\u001b[0m\u001b[0;34m.\u001b[0m\u001b[0mIterable\u001b[0m \u001b[0;32mand\u001b[0m\u001b[0;31m \u001b[0m\u001b[0;31m\\\u001b[0m\u001b[0;34m\u001b[0m\u001b[0;34m\u001b[0m\u001b[0m\n",
            "\u001b[0;32m/usr/local/lib/python3.10/dist-packages/torch/utils/data/dataloader.py\u001b[0m in \u001b[0;36m_next_data\u001b[0;34m(self)\u001b[0m\n\u001b[1;32m    673\u001b[0m     \u001b[0;32mdef\u001b[0m \u001b[0m_next_data\u001b[0m\u001b[0;34m(\u001b[0m\u001b[0mself\u001b[0m\u001b[0;34m)\u001b[0m\u001b[0;34m:\u001b[0m\u001b[0;34m\u001b[0m\u001b[0;34m\u001b[0m\u001b[0m\n\u001b[1;32m    674\u001b[0m         \u001b[0mindex\u001b[0m \u001b[0;34m=\u001b[0m \u001b[0mself\u001b[0m\u001b[0;34m.\u001b[0m\u001b[0m_next_index\u001b[0m\u001b[0;34m(\u001b[0m\u001b[0;34m)\u001b[0m  \u001b[0;31m# may raise StopIteration\u001b[0m\u001b[0;34m\u001b[0m\u001b[0;34m\u001b[0m\u001b[0m\n\u001b[0;32m--> 675\u001b[0;31m         \u001b[0mdata\u001b[0m \u001b[0;34m=\u001b[0m \u001b[0mself\u001b[0m\u001b[0;34m.\u001b[0m\u001b[0m_dataset_fetcher\u001b[0m\u001b[0;34m.\u001b[0m\u001b[0mfetch\u001b[0m\u001b[0;34m(\u001b[0m\u001b[0mindex\u001b[0m\u001b[0;34m)\u001b[0m  \u001b[0;31m# may raise StopIteration\u001b[0m\u001b[0;34m\u001b[0m\u001b[0;34m\u001b[0m\u001b[0m\n\u001b[0m\u001b[1;32m    676\u001b[0m         \u001b[0;32mif\u001b[0m \u001b[0mself\u001b[0m\u001b[0;34m.\u001b[0m\u001b[0m_pin_memory\u001b[0m\u001b[0;34m:\u001b[0m\u001b[0;34m\u001b[0m\u001b[0;34m\u001b[0m\u001b[0m\n\u001b[1;32m    677\u001b[0m             \u001b[0mdata\u001b[0m \u001b[0;34m=\u001b[0m \u001b[0m_utils\u001b[0m\u001b[0;34m.\u001b[0m\u001b[0mpin_memory\u001b[0m\u001b[0;34m.\u001b[0m\u001b[0mpin_memory\u001b[0m\u001b[0;34m(\u001b[0m\u001b[0mdata\u001b[0m\u001b[0;34m,\u001b[0m \u001b[0mself\u001b[0m\u001b[0;34m.\u001b[0m\u001b[0m_pin_memory_device\u001b[0m\u001b[0;34m)\u001b[0m\u001b[0;34m\u001b[0m\u001b[0;34m\u001b[0m\u001b[0m\n",
            "\u001b[0;32m/usr/local/lib/python3.10/dist-packages/torch/utils/data/_utils/fetch.py\u001b[0m in \u001b[0;36mfetch\u001b[0;34m(self, possibly_batched_index)\u001b[0m\n\u001b[1;32m     52\u001b[0m         \u001b[0;32melse\u001b[0m\u001b[0;34m:\u001b[0m\u001b[0;34m\u001b[0m\u001b[0;34m\u001b[0m\u001b[0m\n\u001b[1;32m     53\u001b[0m             \u001b[0mdata\u001b[0m \u001b[0;34m=\u001b[0m \u001b[0mself\u001b[0m\u001b[0;34m.\u001b[0m\u001b[0mdataset\u001b[0m\u001b[0;34m[\u001b[0m\u001b[0mpossibly_batched_index\u001b[0m\u001b[0;34m]\u001b[0m\u001b[0;34m\u001b[0m\u001b[0;34m\u001b[0m\u001b[0m\n\u001b[0;32m---> 54\u001b[0;31m         \u001b[0;32mreturn\u001b[0m \u001b[0mself\u001b[0m\u001b[0;34m.\u001b[0m\u001b[0mcollate_fn\u001b[0m\u001b[0;34m(\u001b[0m\u001b[0mdata\u001b[0m\u001b[0;34m)\u001b[0m\u001b[0;34m\u001b[0m\u001b[0;34m\u001b[0m\u001b[0m\n\u001b[0m",
            "\u001b[0;32m/usr/local/lib/python3.10/dist-packages/torch/utils/data/_utils/collate.py\u001b[0m in \u001b[0;36mdefault_collate\u001b[0;34m(batch)\u001b[0m\n\u001b[1;32m    275\u001b[0m         \u001b[0;34m>>\u001b[0m\u001b[0;34m>\u001b[0m \u001b[0mdefault_collate\u001b[0m\u001b[0;34m(\u001b[0m\u001b[0mbatch\u001b[0m\u001b[0;34m)\u001b[0m  \u001b[0;31m# Handle `CustomType` automatically\u001b[0m\u001b[0;34m\u001b[0m\u001b[0;34m\u001b[0m\u001b[0m\n\u001b[1;32m    276\u001b[0m     \"\"\"\n\u001b[0;32m--> 277\u001b[0;31m     \u001b[0;32mreturn\u001b[0m \u001b[0mcollate\u001b[0m\u001b[0;34m(\u001b[0m\u001b[0mbatch\u001b[0m\u001b[0;34m,\u001b[0m \u001b[0mcollate_fn_map\u001b[0m\u001b[0;34m=\u001b[0m\u001b[0mdefault_collate_fn_map\u001b[0m\u001b[0;34m)\u001b[0m\u001b[0;34m\u001b[0m\u001b[0;34m\u001b[0m\u001b[0m\n\u001b[0m",
            "\u001b[0;32m/usr/local/lib/python3.10/dist-packages/torch/utils/data/_utils/collate.py\u001b[0m in \u001b[0;36mcollate\u001b[0;34m(batch, collate_fn_map)\u001b[0m\n\u001b[1;32m    142\u001b[0m \u001b[0;34m\u001b[0m\u001b[0m\n\u001b[1;32m    143\u001b[0m         \u001b[0;32mif\u001b[0m \u001b[0misinstance\u001b[0m\u001b[0;34m(\u001b[0m\u001b[0melem\u001b[0m\u001b[0;34m,\u001b[0m \u001b[0mtuple\u001b[0m\u001b[0;34m)\u001b[0m\u001b[0;34m:\u001b[0m\u001b[0;34m\u001b[0m\u001b[0;34m\u001b[0m\u001b[0m\n\u001b[0;32m--> 144\u001b[0;31m             \u001b[0;32mreturn\u001b[0m \u001b[0;34m[\u001b[0m\u001b[0mcollate\u001b[0m\u001b[0;34m(\u001b[0m\u001b[0msamples\u001b[0m\u001b[0;34m,\u001b[0m \u001b[0mcollate_fn_map\u001b[0m\u001b[0;34m=\u001b[0m\u001b[0mcollate_fn_map\u001b[0m\u001b[0;34m)\u001b[0m \u001b[0;32mfor\u001b[0m \u001b[0msamples\u001b[0m \u001b[0;32min\u001b[0m \u001b[0mtransposed\u001b[0m\u001b[0;34m]\u001b[0m  \u001b[0;31m# Backwards compatibility.\u001b[0m\u001b[0;34m\u001b[0m\u001b[0;34m\u001b[0m\u001b[0m\n\u001b[0m\u001b[1;32m    145\u001b[0m         \u001b[0;32melse\u001b[0m\u001b[0;34m:\u001b[0m\u001b[0;34m\u001b[0m\u001b[0;34m\u001b[0m\u001b[0m\n\u001b[1;32m    146\u001b[0m             \u001b[0;32mtry\u001b[0m\u001b[0;34m:\u001b[0m\u001b[0;34m\u001b[0m\u001b[0;34m\u001b[0m\u001b[0m\n",
            "\u001b[0;32m/usr/local/lib/python3.10/dist-packages/torch/utils/data/_utils/collate.py\u001b[0m in \u001b[0;36m<listcomp>\u001b[0;34m(.0)\u001b[0m\n\u001b[1;32m    142\u001b[0m \u001b[0;34m\u001b[0m\u001b[0m\n\u001b[1;32m    143\u001b[0m         \u001b[0;32mif\u001b[0m \u001b[0misinstance\u001b[0m\u001b[0;34m(\u001b[0m\u001b[0melem\u001b[0m\u001b[0;34m,\u001b[0m \u001b[0mtuple\u001b[0m\u001b[0;34m)\u001b[0m\u001b[0;34m:\u001b[0m\u001b[0;34m\u001b[0m\u001b[0;34m\u001b[0m\u001b[0m\n\u001b[0;32m--> 144\u001b[0;31m             \u001b[0;32mreturn\u001b[0m \u001b[0;34m[\u001b[0m\u001b[0mcollate\u001b[0m\u001b[0;34m(\u001b[0m\u001b[0msamples\u001b[0m\u001b[0;34m,\u001b[0m \u001b[0mcollate_fn_map\u001b[0m\u001b[0;34m=\u001b[0m\u001b[0mcollate_fn_map\u001b[0m\u001b[0;34m)\u001b[0m \u001b[0;32mfor\u001b[0m \u001b[0msamples\u001b[0m \u001b[0;32min\u001b[0m \u001b[0mtransposed\u001b[0m\u001b[0;34m]\u001b[0m  \u001b[0;31m# Backwards compatibility.\u001b[0m\u001b[0;34m\u001b[0m\u001b[0;34m\u001b[0m\u001b[0m\n\u001b[0m\u001b[1;32m    145\u001b[0m         \u001b[0;32melse\u001b[0m\u001b[0;34m:\u001b[0m\u001b[0;34m\u001b[0m\u001b[0;34m\u001b[0m\u001b[0m\n\u001b[1;32m    146\u001b[0m             \u001b[0;32mtry\u001b[0m\u001b[0;34m:\u001b[0m\u001b[0;34m\u001b[0m\u001b[0;34m\u001b[0m\u001b[0m\n",
            "\u001b[0;32m/usr/local/lib/python3.10/dist-packages/torch/utils/data/_utils/collate.py\u001b[0m in \u001b[0;36mcollate\u001b[0;34m(batch, collate_fn_map)\u001b[0m\n\u001b[1;32m    119\u001b[0m     \u001b[0;32mif\u001b[0m \u001b[0mcollate_fn_map\u001b[0m \u001b[0;32mis\u001b[0m \u001b[0;32mnot\u001b[0m \u001b[0;32mNone\u001b[0m\u001b[0;34m:\u001b[0m\u001b[0;34m\u001b[0m\u001b[0;34m\u001b[0m\u001b[0m\n\u001b[1;32m    120\u001b[0m         \u001b[0;32mif\u001b[0m \u001b[0melem_type\u001b[0m \u001b[0;32min\u001b[0m \u001b[0mcollate_fn_map\u001b[0m\u001b[0;34m:\u001b[0m\u001b[0;34m\u001b[0m\u001b[0;34m\u001b[0m\u001b[0m\n\u001b[0;32m--> 121\u001b[0;31m             \u001b[0;32mreturn\u001b[0m \u001b[0mcollate_fn_map\u001b[0m\u001b[0;34m[\u001b[0m\u001b[0melem_type\u001b[0m\u001b[0;34m]\u001b[0m\u001b[0;34m(\u001b[0m\u001b[0mbatch\u001b[0m\u001b[0;34m,\u001b[0m \u001b[0mcollate_fn_map\u001b[0m\u001b[0;34m=\u001b[0m\u001b[0mcollate_fn_map\u001b[0m\u001b[0;34m)\u001b[0m\u001b[0;34m\u001b[0m\u001b[0;34m\u001b[0m\u001b[0m\n\u001b[0m\u001b[1;32m    122\u001b[0m \u001b[0;34m\u001b[0m\u001b[0m\n\u001b[1;32m    123\u001b[0m         \u001b[0;32mfor\u001b[0m \u001b[0mcollate_type\u001b[0m \u001b[0;32min\u001b[0m \u001b[0mcollate_fn_map\u001b[0m\u001b[0;34m:\u001b[0m\u001b[0;34m\u001b[0m\u001b[0;34m\u001b[0m\u001b[0m\n",
            "\u001b[0;32m/usr/local/lib/python3.10/dist-packages/torch/utils/data/_utils/collate.py\u001b[0m in \u001b[0;36mcollate_tensor_fn\u001b[0;34m(batch, collate_fn_map)\u001b[0m\n\u001b[1;32m    172\u001b[0m         \u001b[0mstorage\u001b[0m \u001b[0;34m=\u001b[0m \u001b[0melem\u001b[0m\u001b[0;34m.\u001b[0m\u001b[0m_typed_storage\u001b[0m\u001b[0;34m(\u001b[0m\u001b[0;34m)\u001b[0m\u001b[0;34m.\u001b[0m\u001b[0m_new_shared\u001b[0m\u001b[0;34m(\u001b[0m\u001b[0mnumel\u001b[0m\u001b[0;34m,\u001b[0m \u001b[0mdevice\u001b[0m\u001b[0;34m=\u001b[0m\u001b[0melem\u001b[0m\u001b[0;34m.\u001b[0m\u001b[0mdevice\u001b[0m\u001b[0;34m)\u001b[0m\u001b[0;34m\u001b[0m\u001b[0;34m\u001b[0m\u001b[0m\n\u001b[1;32m    173\u001b[0m         \u001b[0mout\u001b[0m \u001b[0;34m=\u001b[0m \u001b[0melem\u001b[0m\u001b[0;34m.\u001b[0m\u001b[0mnew\u001b[0m\u001b[0;34m(\u001b[0m\u001b[0mstorage\u001b[0m\u001b[0;34m)\u001b[0m\u001b[0;34m.\u001b[0m\u001b[0mresize_\u001b[0m\u001b[0;34m(\u001b[0m\u001b[0mlen\u001b[0m\u001b[0;34m(\u001b[0m\u001b[0mbatch\u001b[0m\u001b[0;34m)\u001b[0m\u001b[0;34m,\u001b[0m \u001b[0;34m*\u001b[0m\u001b[0mlist\u001b[0m\u001b[0;34m(\u001b[0m\u001b[0melem\u001b[0m\u001b[0;34m.\u001b[0m\u001b[0msize\u001b[0m\u001b[0;34m(\u001b[0m\u001b[0;34m)\u001b[0m\u001b[0;34m)\u001b[0m\u001b[0;34m)\u001b[0m\u001b[0;34m\u001b[0m\u001b[0;34m\u001b[0m\u001b[0m\n\u001b[0;32m--> 174\u001b[0;31m     \u001b[0;32mreturn\u001b[0m \u001b[0mtorch\u001b[0m\u001b[0;34m.\u001b[0m\u001b[0mstack\u001b[0m\u001b[0;34m(\u001b[0m\u001b[0mbatch\u001b[0m\u001b[0;34m,\u001b[0m \u001b[0;36m0\u001b[0m\u001b[0;34m,\u001b[0m \u001b[0mout\u001b[0m\u001b[0;34m=\u001b[0m\u001b[0mout\u001b[0m\u001b[0;34m)\u001b[0m\u001b[0;34m\u001b[0m\u001b[0;34m\u001b[0m\u001b[0m\n\u001b[0m\u001b[1;32m    175\u001b[0m \u001b[0;34m\u001b[0m\u001b[0m\n\u001b[1;32m    176\u001b[0m \u001b[0;34m\u001b[0m\u001b[0m\n",
            "\u001b[0;31mRuntimeError\u001b[0m: stack expects each tensor to be equal size, but got [3, 224, 224] at entry 0 and [4, 224, 224] at entry 2"
          ]
        }
      ],
      "source": [
        "## train self-supervised model\n",
        "\n",
        "optimizer = optim.SGD(model.parameters(), lr=1e-3)\n",
        "\n",
        "model = model.half()\n",
        "model.train()\n",
        "for epoch in range(1):\n",
        "  for x, z1, z2 in dataloader:\n",
        "    inputs, x1, x2 = x.to(\"cuda\").half(), z1.to(\"cuda\").half(), z2.to(\"cuda\").half()\n",
        "    optimizer.zero_grad()\n",
        "\n",
        "    p1, p2 = model(x1), model(x2)\n",
        "    loss = contrastive_loss(inputs, p1, p2)\n",
        "\n",
        "    loss.backward()\n",
        "    optimizer.step()\n",
        "\n",
        "  print(f'Epoch {epoch+1}, Loss: {loss.item()}')\n",
        "\n",
        "torch.save(model.state_dict(), path+'BaseSelfSupervise.pth')"
      ]
    },
    {
      "cell_type": "markdown",
      "metadata": {
        "id": "ykTUXdYr5m_z"
      },
      "source": [
        "## ViTSegmentation (pre-train)\n",
        "\n",
        "same structure for both pre-trained model and fine-tuned model"
      ]
    },
    {
      "cell_type": "code",
      "execution_count": null,
      "metadata": {
        "id": "yysgQB7GrLFA"
      },
      "outputs": [],
      "source": [
        "model = ViTSegmentation(num_classes=3).half()\n",
        "\n",
        "# set parallel mode for multi GPUs\n",
        "if torch.cuda.device_count() > 1:\n",
        "    print(f\"using {torch.cuda.device_count()} GPUs\")\n",
        "    model = nn.DataParallel(model)\n",
        "\n",
        "model.to(\"cuda\")"
      ]
    },
    {
      "cell_type": "code",
      "execution_count": null,
      "metadata": {
        "id": "3HDrRs9Kq-KO"
      },
      "outputs": [],
      "source": [
        "# optional\n",
        "# freeze parameters of the pre-trained ViT\n",
        "if torch.cuda.device_count() > 1:\n",
        "    for param in model.module.vit.parameters():\n",
        "        param.requires_grad = False\n",
        "else:\n",
        "    for param in model.vit.parameters():\n",
        "        param.requires_grad = False"
      ]
    },
    {
      "cell_type": "code",
      "execution_count": null,
      "metadata": {
        "id": "lqAd18i6t903"
      },
      "outputs": [],
      "source": [
        "scaler = torch.cuda.amp.GradScaler()"
      ]
    },
    {
      "cell_type": "code",
      "execution_count": null,
      "metadata": {
        "colab": {
          "base_uri": "https://localhost:8080/"
        },
        "id": "mO9njaYSo-Ul",
        "outputId": "9f0158a1-172b-4c89-8289-707e80643650"
      },
      "outputs": [
        {
          "name": "stdout",
          "output_type": "stream",
          "text": [
            "loss : 18.875\n",
            "loss : 18.844\n",
            "loss : 18.812\n",
            "Epoch 1, Loss: 18.84375\n",
            "loss : 18.875\n",
            "loss : 18.828\n",
            "loss : 18.812\n",
            "loss : 18.781\n",
            "Epoch 2, Loss: 18.8125\n",
            "loss : 18.828\n",
            "loss : 18.797\n",
            "loss : 18.781\n",
            "Epoch 3, Loss: 18.796875\n",
            "loss : 18.828\n",
            "loss : 18.812\n",
            "loss : 18.781\n",
            "Epoch 4, Loss: 18.828125\n",
            "loss : 18.812\n",
            "loss : 18.797\n",
            "loss : 18.781\n",
            "Epoch 5, Loss: 18.8125\n"
          ]
        }
      ],
      "source": [
        "# half precision\n",
        "\n",
        "optimizer = optim.SGD(model.parameters(), lr=1e-3)\n",
        "model = model.half()\n",
        "\n",
        "# Training loop\n",
        "for epoch in range(5):\n",
        "    model.train()\n",
        "    loss_min = 50\n",
        "    for x, z1, z2 in dataloader:\n",
        "        inputs, x1, x2 = x.to(\"cuda\").half(), z1.to(\"cuda\").half(), z2.to(\"cuda\").half()\n",
        "        # mask1, mask2 = torch.rand(size=(1,3,224,224))>.75, torch.rand(size=(1,3,224,224))>.75\n",
        "        # mask1, mask2 = mask1.to(device), mask2.to(device)\n",
        "        # x1, x2 = mask1 * inputs, mask2*inputs\n",
        "\n",
        "        optimizer.zero_grad()\n",
        "\n",
        "        p1, p2 = model(x1), model(x2)\n",
        "        loss = contrastive_loss(inputs, p1, p2)\n",
        "        # accuracy = pixel_wise_accuracy(preds, targets)\n",
        "\n",
        "        # test\n",
        "        # if loss.item()<loss_min:\n",
        "        #   loss_min = loss.item()\n",
        "        #   print('loss : {:.3f}'.format(loss_min))\n",
        "\n",
        "        loss.backward()\n",
        "\n",
        "        optimizer.step()\n",
        "\n",
        "    # print(f'Epoch {epoch+1}, Loss: {loss.item()}, Accuracy: {accuracy}')\n",
        "    print(f'Epoch {epoch+1}, Loss: {loss.item()}')"
      ]
    },
    {
      "cell_type": "code",
      "execution_count": null,
      "metadata": {
        "colab": {
          "base_uri": "https://localhost:8080/",
          "height": 517
        },
        "id": "TpRp8oFiNMKL",
        "outputId": "78dc2acb-0688-463c-e840-6271158571c7"
      },
      "outputs": [
        {
          "output_type": "stream",
          "name": "stdout",
          "text": [
            "loss : 32.625\n",
            "loss : 31.203\n",
            "loss : 31.188\n",
            "loss : 31.094\n",
            "loss : 30.859\n"
          ]
        },
        {
          "output_type": "error",
          "ename": "KeyboardInterrupt",
          "evalue": "",
          "traceback": [
            "\u001b[0;31m---------------------------------------------------------------------------\u001b[0m",
            "\u001b[0;31mKeyboardInterrupt\u001b[0m                         Traceback (most recent call last)",
            "\u001b[0;32m<ipython-input-53-37584a11f14e>\u001b[0m in \u001b[0;36m<cell line: 5>\u001b[0;34m()\u001b[0m\n\u001b[1;32m      5\u001b[0m \u001b[0;32mfor\u001b[0m \u001b[0mepoch\u001b[0m \u001b[0;32min\u001b[0m \u001b[0mrange\u001b[0m\u001b[0;34m(\u001b[0m\u001b[0;36m10\u001b[0m\u001b[0;34m)\u001b[0m\u001b[0;34m:\u001b[0m\u001b[0;34m\u001b[0m\u001b[0;34m\u001b[0m\u001b[0m\n\u001b[1;32m      6\u001b[0m     \u001b[0mmodel\u001b[0m\u001b[0;34m.\u001b[0m\u001b[0mtrain\u001b[0m\u001b[0;34m(\u001b[0m\u001b[0;34m)\u001b[0m\u001b[0;34m\u001b[0m\u001b[0;34m\u001b[0m\u001b[0m\n\u001b[0;32m----> 7\u001b[0;31m     \u001b[0;32mfor\u001b[0m \u001b[0mx\u001b[0m\u001b[0;34m,\u001b[0m \u001b[0mz1\u001b[0m\u001b[0;34m,\u001b[0m \u001b[0mz2\u001b[0m \u001b[0;32min\u001b[0m \u001b[0mdataloader\u001b[0m\u001b[0;34m:\u001b[0m\u001b[0;34m\u001b[0m\u001b[0;34m\u001b[0m\u001b[0m\n\u001b[0m\u001b[1;32m      8\u001b[0m         \u001b[0minputs\u001b[0m\u001b[0;34m,\u001b[0m \u001b[0mx1\u001b[0m\u001b[0;34m,\u001b[0m \u001b[0mx2\u001b[0m \u001b[0;34m=\u001b[0m \u001b[0mx\u001b[0m\u001b[0;34m.\u001b[0m\u001b[0mto\u001b[0m\u001b[0;34m(\u001b[0m\u001b[0;34m\"cuda\"\u001b[0m\u001b[0;34m)\u001b[0m\u001b[0;34m.\u001b[0m\u001b[0mhalf\u001b[0m\u001b[0;34m(\u001b[0m\u001b[0;34m)\u001b[0m\u001b[0;34m,\u001b[0m \u001b[0mz1\u001b[0m\u001b[0;34m.\u001b[0m\u001b[0mto\u001b[0m\u001b[0;34m(\u001b[0m\u001b[0;34m\"cuda\"\u001b[0m\u001b[0;34m)\u001b[0m\u001b[0;34m.\u001b[0m\u001b[0mhalf\u001b[0m\u001b[0;34m(\u001b[0m\u001b[0;34m)\u001b[0m\u001b[0;34m,\u001b[0m \u001b[0mz2\u001b[0m\u001b[0;34m.\u001b[0m\u001b[0mto\u001b[0m\u001b[0;34m(\u001b[0m\u001b[0;34m\"cuda\"\u001b[0m\u001b[0;34m)\u001b[0m\u001b[0;34m.\u001b[0m\u001b[0mhalf\u001b[0m\u001b[0;34m(\u001b[0m\u001b[0;34m)\u001b[0m\u001b[0;34m\u001b[0m\u001b[0;34m\u001b[0m\u001b[0m\n\u001b[1;32m      9\u001b[0m         \u001b[0;31m# mask1, mask2 = torch.rand(size=(1,3,224,224))>.75, torch.rand(size=(1,3,224,224))>.75\u001b[0m\u001b[0;34m\u001b[0m\u001b[0;34m\u001b[0m\u001b[0m\n",
            "\u001b[0;32m/usr/local/lib/python3.10/dist-packages/torch/utils/data/dataloader.py\u001b[0m in \u001b[0;36m__next__\u001b[0;34m(self)\u001b[0m\n\u001b[1;32m    629\u001b[0m                 \u001b[0;31m# TODO(https://github.com/pytorch/pytorch/issues/76750)\u001b[0m\u001b[0;34m\u001b[0m\u001b[0;34m\u001b[0m\u001b[0m\n\u001b[1;32m    630\u001b[0m                 \u001b[0mself\u001b[0m\u001b[0;34m.\u001b[0m\u001b[0m_reset\u001b[0m\u001b[0;34m(\u001b[0m\u001b[0;34m)\u001b[0m  \u001b[0;31m# type: ignore[call-arg]\u001b[0m\u001b[0;34m\u001b[0m\u001b[0;34m\u001b[0m\u001b[0m\n\u001b[0;32m--> 631\u001b[0;31m             \u001b[0mdata\u001b[0m \u001b[0;34m=\u001b[0m \u001b[0mself\u001b[0m\u001b[0;34m.\u001b[0m\u001b[0m_next_data\u001b[0m\u001b[0;34m(\u001b[0m\u001b[0;34m)\u001b[0m\u001b[0;34m\u001b[0m\u001b[0;34m\u001b[0m\u001b[0m\n\u001b[0m\u001b[1;32m    632\u001b[0m             \u001b[0mself\u001b[0m\u001b[0;34m.\u001b[0m\u001b[0m_num_yielded\u001b[0m \u001b[0;34m+=\u001b[0m \u001b[0;36m1\u001b[0m\u001b[0;34m\u001b[0m\u001b[0;34m\u001b[0m\u001b[0m\n\u001b[1;32m    633\u001b[0m             \u001b[0;32mif\u001b[0m \u001b[0mself\u001b[0m\u001b[0;34m.\u001b[0m\u001b[0m_dataset_kind\u001b[0m \u001b[0;34m==\u001b[0m \u001b[0m_DatasetKind\u001b[0m\u001b[0;34m.\u001b[0m\u001b[0mIterable\u001b[0m \u001b[0;32mand\u001b[0m\u001b[0;31m \u001b[0m\u001b[0;31m\\\u001b[0m\u001b[0;34m\u001b[0m\u001b[0;34m\u001b[0m\u001b[0m\n",
            "\u001b[0;32m/usr/local/lib/python3.10/dist-packages/torch/utils/data/dataloader.py\u001b[0m in \u001b[0;36m_next_data\u001b[0;34m(self)\u001b[0m\n\u001b[1;32m    673\u001b[0m     \u001b[0;32mdef\u001b[0m \u001b[0m_next_data\u001b[0m\u001b[0;34m(\u001b[0m\u001b[0mself\u001b[0m\u001b[0;34m)\u001b[0m\u001b[0;34m:\u001b[0m\u001b[0;34m\u001b[0m\u001b[0;34m\u001b[0m\u001b[0m\n\u001b[1;32m    674\u001b[0m         \u001b[0mindex\u001b[0m \u001b[0;34m=\u001b[0m \u001b[0mself\u001b[0m\u001b[0;34m.\u001b[0m\u001b[0m_next_index\u001b[0m\u001b[0;34m(\u001b[0m\u001b[0;34m)\u001b[0m  \u001b[0;31m# may raise StopIteration\u001b[0m\u001b[0;34m\u001b[0m\u001b[0;34m\u001b[0m\u001b[0m\n\u001b[0;32m--> 675\u001b[0;31m         \u001b[0mdata\u001b[0m \u001b[0;34m=\u001b[0m \u001b[0mself\u001b[0m\u001b[0;34m.\u001b[0m\u001b[0m_dataset_fetcher\u001b[0m\u001b[0;34m.\u001b[0m\u001b[0mfetch\u001b[0m\u001b[0;34m(\u001b[0m\u001b[0mindex\u001b[0m\u001b[0;34m)\u001b[0m  \u001b[0;31m# may raise StopIteration\u001b[0m\u001b[0;34m\u001b[0m\u001b[0;34m\u001b[0m\u001b[0m\n\u001b[0m\u001b[1;32m    676\u001b[0m         \u001b[0;32mif\u001b[0m \u001b[0mself\u001b[0m\u001b[0;34m.\u001b[0m\u001b[0m_pin_memory\u001b[0m\u001b[0;34m:\u001b[0m\u001b[0;34m\u001b[0m\u001b[0;34m\u001b[0m\u001b[0m\n\u001b[1;32m    677\u001b[0m             \u001b[0mdata\u001b[0m \u001b[0;34m=\u001b[0m \u001b[0m_utils\u001b[0m\u001b[0;34m.\u001b[0m\u001b[0mpin_memory\u001b[0m\u001b[0;34m.\u001b[0m\u001b[0mpin_memory\u001b[0m\u001b[0;34m(\u001b[0m\u001b[0mdata\u001b[0m\u001b[0;34m,\u001b[0m \u001b[0mself\u001b[0m\u001b[0;34m.\u001b[0m\u001b[0m_pin_memory_device\u001b[0m\u001b[0;34m)\u001b[0m\u001b[0;34m\u001b[0m\u001b[0;34m\u001b[0m\u001b[0m\n",
            "\u001b[0;32m/usr/local/lib/python3.10/dist-packages/torch/utils/data/_utils/fetch.py\u001b[0m in \u001b[0;36mfetch\u001b[0;34m(self, possibly_batched_index)\u001b[0m\n\u001b[1;32m     49\u001b[0m                 \u001b[0mdata\u001b[0m \u001b[0;34m=\u001b[0m \u001b[0mself\u001b[0m\u001b[0;34m.\u001b[0m\u001b[0mdataset\u001b[0m\u001b[0;34m.\u001b[0m\u001b[0m__getitems__\u001b[0m\u001b[0;34m(\u001b[0m\u001b[0mpossibly_batched_index\u001b[0m\u001b[0;34m)\u001b[0m\u001b[0;34m\u001b[0m\u001b[0;34m\u001b[0m\u001b[0m\n\u001b[1;32m     50\u001b[0m             \u001b[0;32melse\u001b[0m\u001b[0;34m:\u001b[0m\u001b[0;34m\u001b[0m\u001b[0;34m\u001b[0m\u001b[0m\n\u001b[0;32m---> 51\u001b[0;31m                 \u001b[0mdata\u001b[0m \u001b[0;34m=\u001b[0m \u001b[0;34m[\u001b[0m\u001b[0mself\u001b[0m\u001b[0;34m.\u001b[0m\u001b[0mdataset\u001b[0m\u001b[0;34m[\u001b[0m\u001b[0midx\u001b[0m\u001b[0;34m]\u001b[0m \u001b[0;32mfor\u001b[0m \u001b[0midx\u001b[0m \u001b[0;32min\u001b[0m \u001b[0mpossibly_batched_index\u001b[0m\u001b[0;34m]\u001b[0m\u001b[0;34m\u001b[0m\u001b[0;34m\u001b[0m\u001b[0m\n\u001b[0m\u001b[1;32m     52\u001b[0m         \u001b[0;32melse\u001b[0m\u001b[0;34m:\u001b[0m\u001b[0;34m\u001b[0m\u001b[0;34m\u001b[0m\u001b[0m\n\u001b[1;32m     53\u001b[0m             \u001b[0mdata\u001b[0m \u001b[0;34m=\u001b[0m \u001b[0mself\u001b[0m\u001b[0;34m.\u001b[0m\u001b[0mdataset\u001b[0m\u001b[0;34m[\u001b[0m\u001b[0mpossibly_batched_index\u001b[0m\u001b[0;34m]\u001b[0m\u001b[0;34m\u001b[0m\u001b[0;34m\u001b[0m\u001b[0m\n",
            "\u001b[0;32m/usr/local/lib/python3.10/dist-packages/torch/utils/data/_utils/fetch.py\u001b[0m in \u001b[0;36m<listcomp>\u001b[0;34m(.0)\u001b[0m\n\u001b[1;32m     49\u001b[0m                 \u001b[0mdata\u001b[0m \u001b[0;34m=\u001b[0m \u001b[0mself\u001b[0m\u001b[0;34m.\u001b[0m\u001b[0mdataset\u001b[0m\u001b[0;34m.\u001b[0m\u001b[0m__getitems__\u001b[0m\u001b[0;34m(\u001b[0m\u001b[0mpossibly_batched_index\u001b[0m\u001b[0;34m)\u001b[0m\u001b[0;34m\u001b[0m\u001b[0;34m\u001b[0m\u001b[0m\n\u001b[1;32m     50\u001b[0m             \u001b[0;32melse\u001b[0m\u001b[0;34m:\u001b[0m\u001b[0;34m\u001b[0m\u001b[0;34m\u001b[0m\u001b[0m\n\u001b[0;32m---> 51\u001b[0;31m                 \u001b[0mdata\u001b[0m \u001b[0;34m=\u001b[0m \u001b[0;34m[\u001b[0m\u001b[0mself\u001b[0m\u001b[0;34m.\u001b[0m\u001b[0mdataset\u001b[0m\u001b[0;34m[\u001b[0m\u001b[0midx\u001b[0m\u001b[0;34m]\u001b[0m \u001b[0;32mfor\u001b[0m \u001b[0midx\u001b[0m \u001b[0;32min\u001b[0m \u001b[0mpossibly_batched_index\u001b[0m\u001b[0;34m]\u001b[0m\u001b[0;34m\u001b[0m\u001b[0;34m\u001b[0m\u001b[0m\n\u001b[0m\u001b[1;32m     52\u001b[0m         \u001b[0;32melse\u001b[0m\u001b[0;34m:\u001b[0m\u001b[0;34m\u001b[0m\u001b[0;34m\u001b[0m\u001b[0m\n\u001b[1;32m     53\u001b[0m             \u001b[0mdata\u001b[0m \u001b[0;34m=\u001b[0m \u001b[0mself\u001b[0m\u001b[0;34m.\u001b[0m\u001b[0mdataset\u001b[0m\u001b[0;34m[\u001b[0m\u001b[0mpossibly_batched_index\u001b[0m\u001b[0;34m]\u001b[0m\u001b[0;34m\u001b[0m\u001b[0;34m\u001b[0m\u001b[0m\n",
            "\u001b[0;32m<ipython-input-3-adbc9de8609b>\u001b[0m in \u001b[0;36m__getitem__\u001b[0;34m(self, idx)\u001b[0m\n\u001b[1;32m     33\u001b[0m \u001b[0;34m\u001b[0m\u001b[0m\n\u001b[1;32m     34\u001b[0m     \u001b[0;32mif\u001b[0m \u001b[0mself\u001b[0m\u001b[0;34m.\u001b[0m\u001b[0mtransform\u001b[0m\u001b[0;34m:\u001b[0m\u001b[0;34m\u001b[0m\u001b[0;34m\u001b[0m\u001b[0m\n\u001b[0;32m---> 35\u001b[0;31m         \u001b[0mimage_0\u001b[0m \u001b[0;34m=\u001b[0m \u001b[0mself\u001b[0m\u001b[0;34m.\u001b[0m\u001b[0mtransform\u001b[0m\u001b[0;34m(\u001b[0m\u001b[0mimage_0\u001b[0m\u001b[0;34m)\u001b[0m\u001b[0;34m\u001b[0m\u001b[0;34m\u001b[0m\u001b[0m\n\u001b[0m\u001b[1;32m     36\u001b[0m         \u001b[0mimage_1\u001b[0m \u001b[0;34m=\u001b[0m \u001b[0mself\u001b[0m\u001b[0;34m.\u001b[0m\u001b[0mtransform\u001b[0m\u001b[0;34m(\u001b[0m\u001b[0mimage_1\u001b[0m\u001b[0;34m)\u001b[0m\u001b[0;34m\u001b[0m\u001b[0;34m\u001b[0m\u001b[0m\n\u001b[1;32m     37\u001b[0m         \u001b[0mimage_2\u001b[0m \u001b[0;34m=\u001b[0m \u001b[0mself\u001b[0m\u001b[0;34m.\u001b[0m\u001b[0mtransform\u001b[0m\u001b[0;34m(\u001b[0m\u001b[0mimage_2\u001b[0m\u001b[0;34m)\u001b[0m\u001b[0;34m\u001b[0m\u001b[0;34m\u001b[0m\u001b[0m\n",
            "\u001b[0;32m/usr/local/lib/python3.10/dist-packages/torchvision/transforms/transforms.py\u001b[0m in \u001b[0;36m__call__\u001b[0;34m(self, img)\u001b[0m\n\u001b[1;32m     93\u001b[0m     \u001b[0;32mdef\u001b[0m \u001b[0m__call__\u001b[0m\u001b[0;34m(\u001b[0m\u001b[0mself\u001b[0m\u001b[0;34m,\u001b[0m \u001b[0mimg\u001b[0m\u001b[0;34m)\u001b[0m\u001b[0;34m:\u001b[0m\u001b[0;34m\u001b[0m\u001b[0;34m\u001b[0m\u001b[0m\n\u001b[1;32m     94\u001b[0m         \u001b[0;32mfor\u001b[0m \u001b[0mt\u001b[0m \u001b[0;32min\u001b[0m \u001b[0mself\u001b[0m\u001b[0;34m.\u001b[0m\u001b[0mtransforms\u001b[0m\u001b[0;34m:\u001b[0m\u001b[0;34m\u001b[0m\u001b[0;34m\u001b[0m\u001b[0m\n\u001b[0;32m---> 95\u001b[0;31m             \u001b[0mimg\u001b[0m \u001b[0;34m=\u001b[0m \u001b[0mt\u001b[0m\u001b[0;34m(\u001b[0m\u001b[0mimg\u001b[0m\u001b[0;34m)\u001b[0m\u001b[0;34m\u001b[0m\u001b[0;34m\u001b[0m\u001b[0m\n\u001b[0m\u001b[1;32m     96\u001b[0m         \u001b[0;32mreturn\u001b[0m \u001b[0mimg\u001b[0m\u001b[0;34m\u001b[0m\u001b[0;34m\u001b[0m\u001b[0m\n\u001b[1;32m     97\u001b[0m \u001b[0;34m\u001b[0m\u001b[0m\n",
            "\u001b[0;32m/usr/local/lib/python3.10/dist-packages/torch/nn/modules/module.py\u001b[0m in \u001b[0;36m_wrapped_call_impl\u001b[0;34m(self, *args, **kwargs)\u001b[0m\n\u001b[1;32m   1509\u001b[0m             \u001b[0;32mreturn\u001b[0m \u001b[0mself\u001b[0m\u001b[0;34m.\u001b[0m\u001b[0m_compiled_call_impl\u001b[0m\u001b[0;34m(\u001b[0m\u001b[0;34m*\u001b[0m\u001b[0margs\u001b[0m\u001b[0;34m,\u001b[0m \u001b[0;34m**\u001b[0m\u001b[0mkwargs\u001b[0m\u001b[0;34m)\u001b[0m  \u001b[0;31m# type: ignore[misc]\u001b[0m\u001b[0;34m\u001b[0m\u001b[0;34m\u001b[0m\u001b[0m\n\u001b[1;32m   1510\u001b[0m         \u001b[0;32melse\u001b[0m\u001b[0;34m:\u001b[0m\u001b[0;34m\u001b[0m\u001b[0;34m\u001b[0m\u001b[0m\n\u001b[0;32m-> 1511\u001b[0;31m             \u001b[0;32mreturn\u001b[0m \u001b[0mself\u001b[0m\u001b[0;34m.\u001b[0m\u001b[0m_call_impl\u001b[0m\u001b[0;34m(\u001b[0m\u001b[0;34m*\u001b[0m\u001b[0margs\u001b[0m\u001b[0;34m,\u001b[0m \u001b[0;34m**\u001b[0m\u001b[0mkwargs\u001b[0m\u001b[0;34m)\u001b[0m\u001b[0;34m\u001b[0m\u001b[0;34m\u001b[0m\u001b[0m\n\u001b[0m\u001b[1;32m   1512\u001b[0m \u001b[0;34m\u001b[0m\u001b[0m\n\u001b[1;32m   1513\u001b[0m     \u001b[0;32mdef\u001b[0m \u001b[0m_call_impl\u001b[0m\u001b[0;34m(\u001b[0m\u001b[0mself\u001b[0m\u001b[0;34m,\u001b[0m \u001b[0;34m*\u001b[0m\u001b[0margs\u001b[0m\u001b[0;34m,\u001b[0m \u001b[0;34m**\u001b[0m\u001b[0mkwargs\u001b[0m\u001b[0;34m)\u001b[0m\u001b[0;34m:\u001b[0m\u001b[0;34m\u001b[0m\u001b[0;34m\u001b[0m\u001b[0m\n",
            "\u001b[0;32m/usr/local/lib/python3.10/dist-packages/torch/nn/modules/module.py\u001b[0m in \u001b[0;36m_call_impl\u001b[0;34m(self, *args, **kwargs)\u001b[0m\n\u001b[1;32m   1518\u001b[0m                 \u001b[0;32mor\u001b[0m \u001b[0m_global_backward_pre_hooks\u001b[0m \u001b[0;32mor\u001b[0m \u001b[0m_global_backward_hooks\u001b[0m\u001b[0;34m\u001b[0m\u001b[0;34m\u001b[0m\u001b[0m\n\u001b[1;32m   1519\u001b[0m                 or _global_forward_hooks or _global_forward_pre_hooks):\n\u001b[0;32m-> 1520\u001b[0;31m             \u001b[0;32mreturn\u001b[0m \u001b[0mforward_call\u001b[0m\u001b[0;34m(\u001b[0m\u001b[0;34m*\u001b[0m\u001b[0margs\u001b[0m\u001b[0;34m,\u001b[0m \u001b[0;34m**\u001b[0m\u001b[0mkwargs\u001b[0m\u001b[0;34m)\u001b[0m\u001b[0;34m\u001b[0m\u001b[0;34m\u001b[0m\u001b[0m\n\u001b[0m\u001b[1;32m   1521\u001b[0m \u001b[0;34m\u001b[0m\u001b[0m\n\u001b[1;32m   1522\u001b[0m         \u001b[0;32mtry\u001b[0m\u001b[0;34m:\u001b[0m\u001b[0;34m\u001b[0m\u001b[0;34m\u001b[0m\u001b[0m\n",
            "\u001b[0;32m/usr/local/lib/python3.10/dist-packages/torchvision/transforms/transforms.py\u001b[0m in \u001b[0;36mforward\u001b[0;34m(self, img)\u001b[0m\n\u001b[1;32m    352\u001b[0m             \u001b[0mPIL\u001b[0m \u001b[0mImage\u001b[0m \u001b[0;32mor\u001b[0m \u001b[0mTensor\u001b[0m\u001b[0;34m:\u001b[0m \u001b[0mRescaled\u001b[0m \u001b[0mimage\u001b[0m\u001b[0;34m.\u001b[0m\u001b[0;34m\u001b[0m\u001b[0;34m\u001b[0m\u001b[0m\n\u001b[1;32m    353\u001b[0m         \"\"\"\n\u001b[0;32m--> 354\u001b[0;31m         \u001b[0;32mreturn\u001b[0m \u001b[0mF\u001b[0m\u001b[0;34m.\u001b[0m\u001b[0mresize\u001b[0m\u001b[0;34m(\u001b[0m\u001b[0mimg\u001b[0m\u001b[0;34m,\u001b[0m \u001b[0mself\u001b[0m\u001b[0;34m.\u001b[0m\u001b[0msize\u001b[0m\u001b[0;34m,\u001b[0m \u001b[0mself\u001b[0m\u001b[0;34m.\u001b[0m\u001b[0minterpolation\u001b[0m\u001b[0;34m,\u001b[0m \u001b[0mself\u001b[0m\u001b[0;34m.\u001b[0m\u001b[0mmax_size\u001b[0m\u001b[0;34m,\u001b[0m \u001b[0mself\u001b[0m\u001b[0;34m.\u001b[0m\u001b[0mantialias\u001b[0m\u001b[0;34m)\u001b[0m\u001b[0;34m\u001b[0m\u001b[0;34m\u001b[0m\u001b[0m\n\u001b[0m\u001b[1;32m    355\u001b[0m \u001b[0;34m\u001b[0m\u001b[0m\n\u001b[1;32m    356\u001b[0m     \u001b[0;32mdef\u001b[0m \u001b[0m__repr__\u001b[0m\u001b[0;34m(\u001b[0m\u001b[0mself\u001b[0m\u001b[0;34m)\u001b[0m \u001b[0;34m->\u001b[0m \u001b[0mstr\u001b[0m\u001b[0;34m:\u001b[0m\u001b[0;34m\u001b[0m\u001b[0;34m\u001b[0m\u001b[0m\n",
            "\u001b[0;32m/usr/local/lib/python3.10/dist-packages/torchvision/transforms/functional.py\u001b[0m in \u001b[0;36mresize\u001b[0;34m(img, size, interpolation, max_size, antialias)\u001b[0m\n\u001b[1;32m    465\u001b[0m             \u001b[0mwarnings\u001b[0m\u001b[0;34m.\u001b[0m\u001b[0mwarn\u001b[0m\u001b[0;34m(\u001b[0m\u001b[0;34m\"Anti-alias option is always applied for PIL Image input. Argument antialias is ignored.\"\u001b[0m\u001b[0;34m)\u001b[0m\u001b[0;34m\u001b[0m\u001b[0;34m\u001b[0m\u001b[0m\n\u001b[1;32m    466\u001b[0m         \u001b[0mpil_interpolation\u001b[0m \u001b[0;34m=\u001b[0m \u001b[0mpil_modes_mapping\u001b[0m\u001b[0;34m[\u001b[0m\u001b[0minterpolation\u001b[0m\u001b[0;34m]\u001b[0m\u001b[0;34m\u001b[0m\u001b[0;34m\u001b[0m\u001b[0m\n\u001b[0;32m--> 467\u001b[0;31m         \u001b[0;32mreturn\u001b[0m \u001b[0mF_pil\u001b[0m\u001b[0;34m.\u001b[0m\u001b[0mresize\u001b[0m\u001b[0;34m(\u001b[0m\u001b[0mimg\u001b[0m\u001b[0;34m,\u001b[0m \u001b[0msize\u001b[0m\u001b[0;34m=\u001b[0m\u001b[0moutput_size\u001b[0m\u001b[0;34m,\u001b[0m \u001b[0minterpolation\u001b[0m\u001b[0;34m=\u001b[0m\u001b[0mpil_interpolation\u001b[0m\u001b[0;34m)\u001b[0m\u001b[0;34m\u001b[0m\u001b[0;34m\u001b[0m\u001b[0m\n\u001b[0m\u001b[1;32m    468\u001b[0m \u001b[0;34m\u001b[0m\u001b[0m\n\u001b[1;32m    469\u001b[0m     \u001b[0;32mreturn\u001b[0m \u001b[0mF_t\u001b[0m\u001b[0;34m.\u001b[0m\u001b[0mresize\u001b[0m\u001b[0;34m(\u001b[0m\u001b[0mimg\u001b[0m\u001b[0;34m,\u001b[0m \u001b[0msize\u001b[0m\u001b[0;34m=\u001b[0m\u001b[0moutput_size\u001b[0m\u001b[0;34m,\u001b[0m \u001b[0minterpolation\u001b[0m\u001b[0;34m=\u001b[0m\u001b[0minterpolation\u001b[0m\u001b[0;34m.\u001b[0m\u001b[0mvalue\u001b[0m\u001b[0;34m,\u001b[0m \u001b[0mantialias\u001b[0m\u001b[0;34m=\u001b[0m\u001b[0mantialias\u001b[0m\u001b[0;34m)\u001b[0m\u001b[0;34m\u001b[0m\u001b[0;34m\u001b[0m\u001b[0m\n",
            "\u001b[0;32m/usr/local/lib/python3.10/dist-packages/torchvision/transforms/_functional_pil.py\u001b[0m in \u001b[0;36mresize\u001b[0;34m(img, size, interpolation)\u001b[0m\n\u001b[1;32m    248\u001b[0m         \u001b[0;32mraise\u001b[0m \u001b[0mTypeError\u001b[0m\u001b[0;34m(\u001b[0m\u001b[0;34mf\"Got inappropriate size arg: {size}\"\u001b[0m\u001b[0;34m)\u001b[0m\u001b[0;34m\u001b[0m\u001b[0;34m\u001b[0m\u001b[0m\n\u001b[1;32m    249\u001b[0m \u001b[0;34m\u001b[0m\u001b[0m\n\u001b[0;32m--> 250\u001b[0;31m     \u001b[0;32mreturn\u001b[0m \u001b[0mimg\u001b[0m\u001b[0;34m.\u001b[0m\u001b[0mresize\u001b[0m\u001b[0;34m(\u001b[0m\u001b[0mtuple\u001b[0m\u001b[0;34m(\u001b[0m\u001b[0msize\u001b[0m\u001b[0;34m[\u001b[0m\u001b[0;34m:\u001b[0m\u001b[0;34m:\u001b[0m\u001b[0;34m-\u001b[0m\u001b[0;36m1\u001b[0m\u001b[0;34m]\u001b[0m\u001b[0;34m)\u001b[0m\u001b[0;34m,\u001b[0m \u001b[0minterpolation\u001b[0m\u001b[0;34m)\u001b[0m\u001b[0;34m\u001b[0m\u001b[0;34m\u001b[0m\u001b[0m\n\u001b[0m\u001b[1;32m    251\u001b[0m \u001b[0;34m\u001b[0m\u001b[0m\n\u001b[1;32m    252\u001b[0m \u001b[0;34m\u001b[0m\u001b[0m\n",
            "\u001b[0;32m/usr/local/lib/python3.10/dist-packages/PIL/Image.py\u001b[0m in \u001b[0;36mresize\u001b[0;34m(self, size, resample, box, reducing_gap)\u001b[0m\n\u001b[1;32m   2190\u001b[0m                 )\n\u001b[1;32m   2191\u001b[0m \u001b[0;34m\u001b[0m\u001b[0m\n\u001b[0;32m-> 2192\u001b[0;31m         \u001b[0;32mreturn\u001b[0m \u001b[0mself\u001b[0m\u001b[0;34m.\u001b[0m\u001b[0m_new\u001b[0m\u001b[0;34m(\u001b[0m\u001b[0mself\u001b[0m\u001b[0;34m.\u001b[0m\u001b[0mim\u001b[0m\u001b[0;34m.\u001b[0m\u001b[0mresize\u001b[0m\u001b[0;34m(\u001b[0m\u001b[0msize\u001b[0m\u001b[0;34m,\u001b[0m \u001b[0mresample\u001b[0m\u001b[0;34m,\u001b[0m \u001b[0mbox\u001b[0m\u001b[0;34m)\u001b[0m\u001b[0;34m)\u001b[0m\u001b[0;34m\u001b[0m\u001b[0;34m\u001b[0m\u001b[0m\n\u001b[0m\u001b[1;32m   2193\u001b[0m \u001b[0;34m\u001b[0m\u001b[0m\n\u001b[1;32m   2194\u001b[0m     \u001b[0;32mdef\u001b[0m \u001b[0mreduce\u001b[0m\u001b[0;34m(\u001b[0m\u001b[0mself\u001b[0m\u001b[0;34m,\u001b[0m \u001b[0mfactor\u001b[0m\u001b[0;34m,\u001b[0m \u001b[0mbox\u001b[0m\u001b[0;34m=\u001b[0m\u001b[0;32mNone\u001b[0m\u001b[0;34m)\u001b[0m\u001b[0;34m:\u001b[0m\u001b[0;34m\u001b[0m\u001b[0;34m\u001b[0m\u001b[0m\n",
            "\u001b[0;31mKeyboardInterrupt\u001b[0m: "
          ]
        }
      ],
      "source": [
        "optimizer = optim.SGD(model.parameters(), lr=1e-3)\n",
        "\n",
        "ml = 1000\n",
        "# Training loop\n",
        "for epoch in range(10):\n",
        "    model.train()\n",
        "    for x, z1, z2 in dataloader:\n",
        "        inputs, x1, x2 = x.to(\"cuda\").half(), z1.to(\"cuda\").half(), z2.to(\"cuda\").half()\n",
        "        # mask1, mask2 = torch.rand(size=(1,3,224,224))>.75, torch.rand(size=(1,3,224,224))>.75\n",
        "        # mask1, mask2 = mask1.to(device), mask2.to(device)\n",
        "        # x1, x2 = mask1 * inputs, mask2*inputs\n",
        "        #model = model.half()\n",
        "        optimizer.zero_grad()\n",
        "\n",
        "        p1, p2 = model(x1), model(x2)\n",
        "        loss = contrastive_loss(inputs, p1, p2)\n",
        "        # accuracy = pixel_wise_accuracy(preds, targets)\n",
        "\n",
        "        # test\n",
        "        if loss.item()<ml:\n",
        "          ml = loss.item()\n",
        "          print('loss : {:.3f}'.format(loss.item()))\n",
        "\n",
        "        loss.backward()\n",
        "\n",
        "        optimizer.step()\n",
        "\n",
        "    # print(f'Epoch {epoch+1}, Loss: {loss.item()}, Accuracy: {accuracy}')\n",
        "    print(f'Epoch {epoch+1}, Loss: {loss.item()}')"
      ]
    },
    {
      "cell_type": "markdown",
      "source": [
        "half data"
      ],
      "metadata": {
        "id": "P0qnK0f-CozH"
      }
    },
    {
      "cell_type": "code",
      "source": [
        "optimizer = optim.SGD(model.parameters(), lr=1e-3)\n",
        "\n",
        "ml = 50\n",
        "# Training loop\n",
        "for epoch in range(1):\n",
        "    model.train()\n",
        "    for (idx, (x, z1, z2)) in enumerate(dataloader):\n",
        "        if (idx+1)%2==0: continue\n",
        "        inputs, x1, x2 = x.to(\"cuda\").half(), z1.to(\"cuda\").half(), z2.to(\"cuda\").half()\n",
        "        # mask1, mask2 = torch.rand(size=(1,3,224,224))>.75, torch.rand(size=(1,3,224,224))>.75\n",
        "        # mask1, mask2 = mask1.to(device), mask2.to(device)\n",
        "        # x1, x2 = mask1 * inputs, mask2*inputs\n",
        "        #model = model.half()\n",
        "        optimizer.zero_grad()\n",
        "\n",
        "        p1, p2 = model(x1), model(x2)\n",
        "        loss = contrastive_loss(inputs, p1, p2)\n",
        "        # accuracy = pixel_wise_accuracy(preds, targets)\n",
        "\n",
        "        # test\n",
        "        if loss.item()<ml:\n",
        "          ml = loss.item()\n",
        "          print('loss : {:.3f}'.format(loss.item()))\n",
        "\n",
        "        loss.backward()\n",
        "\n",
        "        optimizer.step()\n",
        "\n",
        "    # print(f'Epoch {epoch+1}, Loss: {loss.item()}, Accuracy: {accuracy}')\n",
        "    print(f'Epoch {epoch+1}, Loss: {loss.item()}')"
      ],
      "metadata": {
        "colab": {
          "base_uri": "https://localhost:8080/",
          "height": 480
        },
        "id": "IJ5rRnnXBz9B",
        "outputId": "ccd75c1a-ccf0-44f3-9933-fec55226f9e7"
      },
      "execution_count": null,
      "outputs": [
        {
          "output_type": "stream",
          "name": "stdout",
          "text": [
            "loss : 32.625\n",
            "loss : 31.203\n",
            "loss : 31.094\n",
            "loss : 30.859\n"
          ]
        },
        {
          "output_type": "error",
          "ename": "KeyboardInterrupt",
          "evalue": "",
          "traceback": [
            "\u001b[0;31m---------------------------------------------------------------------------\u001b[0m",
            "\u001b[0;31mKeyboardInterrupt\u001b[0m                         Traceback (most recent call last)",
            "\u001b[0;32m<ipython-input-54-001f0d9c2112>\u001b[0m in \u001b[0;36m<cell line: 5>\u001b[0;34m()\u001b[0m\n\u001b[1;32m      5\u001b[0m \u001b[0;32mfor\u001b[0m \u001b[0mepoch\u001b[0m \u001b[0;32min\u001b[0m \u001b[0mrange\u001b[0m\u001b[0;34m(\u001b[0m\u001b[0;36m1\u001b[0m\u001b[0;34m)\u001b[0m\u001b[0;34m:\u001b[0m\u001b[0;34m\u001b[0m\u001b[0;34m\u001b[0m\u001b[0m\n\u001b[1;32m      6\u001b[0m     \u001b[0mmodel\u001b[0m\u001b[0;34m.\u001b[0m\u001b[0mtrain\u001b[0m\u001b[0;34m(\u001b[0m\u001b[0;34m)\u001b[0m\u001b[0;34m\u001b[0m\u001b[0;34m\u001b[0m\u001b[0m\n\u001b[0;32m----> 7\u001b[0;31m     \u001b[0;32mfor\u001b[0m \u001b[0;34m(\u001b[0m\u001b[0midx\u001b[0m\u001b[0;34m,\u001b[0m \u001b[0;34m(\u001b[0m\u001b[0mx\u001b[0m\u001b[0;34m,\u001b[0m \u001b[0mz1\u001b[0m\u001b[0;34m,\u001b[0m \u001b[0mz2\u001b[0m\u001b[0;34m)\u001b[0m\u001b[0;34m)\u001b[0m \u001b[0;32min\u001b[0m \u001b[0menumerate\u001b[0m\u001b[0;34m(\u001b[0m\u001b[0mdataloader\u001b[0m\u001b[0;34m)\u001b[0m\u001b[0;34m:\u001b[0m\u001b[0;34m\u001b[0m\u001b[0;34m\u001b[0m\u001b[0m\n\u001b[0m\u001b[1;32m      8\u001b[0m         \u001b[0;32mif\u001b[0m \u001b[0;34m(\u001b[0m\u001b[0midx\u001b[0m\u001b[0;34m+\u001b[0m\u001b[0;36m1\u001b[0m\u001b[0;34m)\u001b[0m\u001b[0;34m%\u001b[0m\u001b[0;36m2\u001b[0m\u001b[0;34m==\u001b[0m\u001b[0;36m0\u001b[0m\u001b[0;34m:\u001b[0m \u001b[0;32mcontinue\u001b[0m\u001b[0;34m\u001b[0m\u001b[0;34m\u001b[0m\u001b[0m\n\u001b[1;32m      9\u001b[0m         \u001b[0minputs\u001b[0m\u001b[0;34m,\u001b[0m \u001b[0mx1\u001b[0m\u001b[0;34m,\u001b[0m \u001b[0mx2\u001b[0m \u001b[0;34m=\u001b[0m \u001b[0mx\u001b[0m\u001b[0;34m.\u001b[0m\u001b[0mto\u001b[0m\u001b[0;34m(\u001b[0m\u001b[0;34m\"cuda\"\u001b[0m\u001b[0;34m)\u001b[0m\u001b[0;34m.\u001b[0m\u001b[0mhalf\u001b[0m\u001b[0;34m(\u001b[0m\u001b[0;34m)\u001b[0m\u001b[0;34m,\u001b[0m \u001b[0mz1\u001b[0m\u001b[0;34m.\u001b[0m\u001b[0mto\u001b[0m\u001b[0;34m(\u001b[0m\u001b[0;34m\"cuda\"\u001b[0m\u001b[0;34m)\u001b[0m\u001b[0;34m.\u001b[0m\u001b[0mhalf\u001b[0m\u001b[0;34m(\u001b[0m\u001b[0;34m)\u001b[0m\u001b[0;34m,\u001b[0m \u001b[0mz2\u001b[0m\u001b[0;34m.\u001b[0m\u001b[0mto\u001b[0m\u001b[0;34m(\u001b[0m\u001b[0;34m\"cuda\"\u001b[0m\u001b[0;34m)\u001b[0m\u001b[0;34m.\u001b[0m\u001b[0mhalf\u001b[0m\u001b[0;34m(\u001b[0m\u001b[0;34m)\u001b[0m\u001b[0;34m\u001b[0m\u001b[0;34m\u001b[0m\u001b[0m\n",
            "\u001b[0;32m/usr/local/lib/python3.10/dist-packages/torch/utils/data/dataloader.py\u001b[0m in \u001b[0;36m__next__\u001b[0;34m(self)\u001b[0m\n\u001b[1;32m    629\u001b[0m                 \u001b[0;31m# TODO(https://github.com/pytorch/pytorch/issues/76750)\u001b[0m\u001b[0;34m\u001b[0m\u001b[0;34m\u001b[0m\u001b[0m\n\u001b[1;32m    630\u001b[0m                 \u001b[0mself\u001b[0m\u001b[0;34m.\u001b[0m\u001b[0m_reset\u001b[0m\u001b[0;34m(\u001b[0m\u001b[0;34m)\u001b[0m  \u001b[0;31m# type: ignore[call-arg]\u001b[0m\u001b[0;34m\u001b[0m\u001b[0;34m\u001b[0m\u001b[0m\n\u001b[0;32m--> 631\u001b[0;31m             \u001b[0mdata\u001b[0m \u001b[0;34m=\u001b[0m \u001b[0mself\u001b[0m\u001b[0;34m.\u001b[0m\u001b[0m_next_data\u001b[0m\u001b[0;34m(\u001b[0m\u001b[0;34m)\u001b[0m\u001b[0;34m\u001b[0m\u001b[0;34m\u001b[0m\u001b[0m\n\u001b[0m\u001b[1;32m    632\u001b[0m             \u001b[0mself\u001b[0m\u001b[0;34m.\u001b[0m\u001b[0m_num_yielded\u001b[0m \u001b[0;34m+=\u001b[0m \u001b[0;36m1\u001b[0m\u001b[0;34m\u001b[0m\u001b[0;34m\u001b[0m\u001b[0m\n\u001b[1;32m    633\u001b[0m             \u001b[0;32mif\u001b[0m \u001b[0mself\u001b[0m\u001b[0;34m.\u001b[0m\u001b[0m_dataset_kind\u001b[0m \u001b[0;34m==\u001b[0m \u001b[0m_DatasetKind\u001b[0m\u001b[0;34m.\u001b[0m\u001b[0mIterable\u001b[0m \u001b[0;32mand\u001b[0m\u001b[0;31m \u001b[0m\u001b[0;31m\\\u001b[0m\u001b[0;34m\u001b[0m\u001b[0;34m\u001b[0m\u001b[0m\n",
            "\u001b[0;32m/usr/local/lib/python3.10/dist-packages/torch/utils/data/dataloader.py\u001b[0m in \u001b[0;36m_next_data\u001b[0;34m(self)\u001b[0m\n\u001b[1;32m    673\u001b[0m     \u001b[0;32mdef\u001b[0m \u001b[0m_next_data\u001b[0m\u001b[0;34m(\u001b[0m\u001b[0mself\u001b[0m\u001b[0;34m)\u001b[0m\u001b[0;34m:\u001b[0m\u001b[0;34m\u001b[0m\u001b[0;34m\u001b[0m\u001b[0m\n\u001b[1;32m    674\u001b[0m         \u001b[0mindex\u001b[0m \u001b[0;34m=\u001b[0m \u001b[0mself\u001b[0m\u001b[0;34m.\u001b[0m\u001b[0m_next_index\u001b[0m\u001b[0;34m(\u001b[0m\u001b[0;34m)\u001b[0m  \u001b[0;31m# may raise StopIteration\u001b[0m\u001b[0;34m\u001b[0m\u001b[0;34m\u001b[0m\u001b[0m\n\u001b[0;32m--> 675\u001b[0;31m         \u001b[0mdata\u001b[0m \u001b[0;34m=\u001b[0m \u001b[0mself\u001b[0m\u001b[0;34m.\u001b[0m\u001b[0m_dataset_fetcher\u001b[0m\u001b[0;34m.\u001b[0m\u001b[0mfetch\u001b[0m\u001b[0;34m(\u001b[0m\u001b[0mindex\u001b[0m\u001b[0;34m)\u001b[0m  \u001b[0;31m# may raise StopIteration\u001b[0m\u001b[0;34m\u001b[0m\u001b[0;34m\u001b[0m\u001b[0m\n\u001b[0m\u001b[1;32m    676\u001b[0m         \u001b[0;32mif\u001b[0m \u001b[0mself\u001b[0m\u001b[0;34m.\u001b[0m\u001b[0m_pin_memory\u001b[0m\u001b[0;34m:\u001b[0m\u001b[0;34m\u001b[0m\u001b[0;34m\u001b[0m\u001b[0m\n\u001b[1;32m    677\u001b[0m             \u001b[0mdata\u001b[0m \u001b[0;34m=\u001b[0m \u001b[0m_utils\u001b[0m\u001b[0;34m.\u001b[0m\u001b[0mpin_memory\u001b[0m\u001b[0;34m.\u001b[0m\u001b[0mpin_memory\u001b[0m\u001b[0;34m(\u001b[0m\u001b[0mdata\u001b[0m\u001b[0;34m,\u001b[0m \u001b[0mself\u001b[0m\u001b[0;34m.\u001b[0m\u001b[0m_pin_memory_device\u001b[0m\u001b[0;34m)\u001b[0m\u001b[0;34m\u001b[0m\u001b[0;34m\u001b[0m\u001b[0m\n",
            "\u001b[0;32m/usr/local/lib/python3.10/dist-packages/torch/utils/data/_utils/fetch.py\u001b[0m in \u001b[0;36mfetch\u001b[0;34m(self, possibly_batched_index)\u001b[0m\n\u001b[1;32m     52\u001b[0m         \u001b[0;32melse\u001b[0m\u001b[0;34m:\u001b[0m\u001b[0;34m\u001b[0m\u001b[0;34m\u001b[0m\u001b[0m\n\u001b[1;32m     53\u001b[0m             \u001b[0mdata\u001b[0m \u001b[0;34m=\u001b[0m \u001b[0mself\u001b[0m\u001b[0;34m.\u001b[0m\u001b[0mdataset\u001b[0m\u001b[0;34m[\u001b[0m\u001b[0mpossibly_batched_index\u001b[0m\u001b[0;34m]\u001b[0m\u001b[0;34m\u001b[0m\u001b[0;34m\u001b[0m\u001b[0m\n\u001b[0;32m---> 54\u001b[0;31m         \u001b[0;32mreturn\u001b[0m \u001b[0mself\u001b[0m\u001b[0;34m.\u001b[0m\u001b[0mcollate_fn\u001b[0m\u001b[0;34m(\u001b[0m\u001b[0mdata\u001b[0m\u001b[0;34m)\u001b[0m\u001b[0;34m\u001b[0m\u001b[0;34m\u001b[0m\u001b[0m\n\u001b[0m",
            "\u001b[0;32m/usr/local/lib/python3.10/dist-packages/torch/utils/data/_utils/collate.py\u001b[0m in \u001b[0;36mdefault_collate\u001b[0;34m(batch)\u001b[0m\n\u001b[1;32m    275\u001b[0m         \u001b[0;34m>>\u001b[0m\u001b[0;34m>\u001b[0m \u001b[0mdefault_collate\u001b[0m\u001b[0;34m(\u001b[0m\u001b[0mbatch\u001b[0m\u001b[0;34m)\u001b[0m  \u001b[0;31m# Handle `CustomType` automatically\u001b[0m\u001b[0;34m\u001b[0m\u001b[0;34m\u001b[0m\u001b[0m\n\u001b[1;32m    276\u001b[0m     \"\"\"\n\u001b[0;32m--> 277\u001b[0;31m     \u001b[0;32mreturn\u001b[0m \u001b[0mcollate\u001b[0m\u001b[0;34m(\u001b[0m\u001b[0mbatch\u001b[0m\u001b[0;34m,\u001b[0m \u001b[0mcollate_fn_map\u001b[0m\u001b[0;34m=\u001b[0m\u001b[0mdefault_collate_fn_map\u001b[0m\u001b[0;34m)\u001b[0m\u001b[0;34m\u001b[0m\u001b[0;34m\u001b[0m\u001b[0m\n\u001b[0m",
            "\u001b[0;32m/usr/local/lib/python3.10/dist-packages/torch/utils/data/_utils/collate.py\u001b[0m in \u001b[0;36mcollate\u001b[0;34m(batch, collate_fn_map)\u001b[0m\n\u001b[1;32m    142\u001b[0m \u001b[0;34m\u001b[0m\u001b[0m\n\u001b[1;32m    143\u001b[0m         \u001b[0;32mif\u001b[0m \u001b[0misinstance\u001b[0m\u001b[0;34m(\u001b[0m\u001b[0melem\u001b[0m\u001b[0;34m,\u001b[0m \u001b[0mtuple\u001b[0m\u001b[0;34m)\u001b[0m\u001b[0;34m:\u001b[0m\u001b[0;34m\u001b[0m\u001b[0;34m\u001b[0m\u001b[0m\n\u001b[0;32m--> 144\u001b[0;31m             \u001b[0;32mreturn\u001b[0m \u001b[0;34m[\u001b[0m\u001b[0mcollate\u001b[0m\u001b[0;34m(\u001b[0m\u001b[0msamples\u001b[0m\u001b[0;34m,\u001b[0m \u001b[0mcollate_fn_map\u001b[0m\u001b[0;34m=\u001b[0m\u001b[0mcollate_fn_map\u001b[0m\u001b[0;34m)\u001b[0m \u001b[0;32mfor\u001b[0m \u001b[0msamples\u001b[0m \u001b[0;32min\u001b[0m \u001b[0mtransposed\u001b[0m\u001b[0;34m]\u001b[0m  \u001b[0;31m# Backwards compatibility.\u001b[0m\u001b[0;34m\u001b[0m\u001b[0;34m\u001b[0m\u001b[0m\n\u001b[0m\u001b[1;32m    145\u001b[0m         \u001b[0;32melse\u001b[0m\u001b[0;34m:\u001b[0m\u001b[0;34m\u001b[0m\u001b[0;34m\u001b[0m\u001b[0m\n\u001b[1;32m    146\u001b[0m             \u001b[0;32mtry\u001b[0m\u001b[0;34m:\u001b[0m\u001b[0;34m\u001b[0m\u001b[0;34m\u001b[0m\u001b[0m\n",
            "\u001b[0;32m/usr/local/lib/python3.10/dist-packages/torch/utils/data/_utils/collate.py\u001b[0m in \u001b[0;36m<listcomp>\u001b[0;34m(.0)\u001b[0m\n\u001b[1;32m    142\u001b[0m \u001b[0;34m\u001b[0m\u001b[0m\n\u001b[1;32m    143\u001b[0m         \u001b[0;32mif\u001b[0m \u001b[0misinstance\u001b[0m\u001b[0;34m(\u001b[0m\u001b[0melem\u001b[0m\u001b[0;34m,\u001b[0m \u001b[0mtuple\u001b[0m\u001b[0;34m)\u001b[0m\u001b[0;34m:\u001b[0m\u001b[0;34m\u001b[0m\u001b[0;34m\u001b[0m\u001b[0m\n\u001b[0;32m--> 144\u001b[0;31m             \u001b[0;32mreturn\u001b[0m \u001b[0;34m[\u001b[0m\u001b[0mcollate\u001b[0m\u001b[0;34m(\u001b[0m\u001b[0msamples\u001b[0m\u001b[0;34m,\u001b[0m \u001b[0mcollate_fn_map\u001b[0m\u001b[0;34m=\u001b[0m\u001b[0mcollate_fn_map\u001b[0m\u001b[0;34m)\u001b[0m \u001b[0;32mfor\u001b[0m \u001b[0msamples\u001b[0m \u001b[0;32min\u001b[0m \u001b[0mtransposed\u001b[0m\u001b[0;34m]\u001b[0m  \u001b[0;31m# Backwards compatibility.\u001b[0m\u001b[0;34m\u001b[0m\u001b[0;34m\u001b[0m\u001b[0m\n\u001b[0m\u001b[1;32m    145\u001b[0m         \u001b[0;32melse\u001b[0m\u001b[0;34m:\u001b[0m\u001b[0;34m\u001b[0m\u001b[0;34m\u001b[0m\u001b[0m\n\u001b[1;32m    146\u001b[0m             \u001b[0;32mtry\u001b[0m\u001b[0;34m:\u001b[0m\u001b[0;34m\u001b[0m\u001b[0;34m\u001b[0m\u001b[0m\n",
            "\u001b[0;32m/usr/local/lib/python3.10/dist-packages/torch/utils/data/_utils/collate.py\u001b[0m in \u001b[0;36mcollate\u001b[0;34m(batch, collate_fn_map)\u001b[0m\n\u001b[1;32m    119\u001b[0m     \u001b[0;32mif\u001b[0m \u001b[0mcollate_fn_map\u001b[0m \u001b[0;32mis\u001b[0m \u001b[0;32mnot\u001b[0m \u001b[0;32mNone\u001b[0m\u001b[0;34m:\u001b[0m\u001b[0;34m\u001b[0m\u001b[0;34m\u001b[0m\u001b[0m\n\u001b[1;32m    120\u001b[0m         \u001b[0;32mif\u001b[0m \u001b[0melem_type\u001b[0m \u001b[0;32min\u001b[0m \u001b[0mcollate_fn_map\u001b[0m\u001b[0;34m:\u001b[0m\u001b[0;34m\u001b[0m\u001b[0;34m\u001b[0m\u001b[0m\n\u001b[0;32m--> 121\u001b[0;31m             \u001b[0;32mreturn\u001b[0m \u001b[0mcollate_fn_map\u001b[0m\u001b[0;34m[\u001b[0m\u001b[0melem_type\u001b[0m\u001b[0;34m]\u001b[0m\u001b[0;34m(\u001b[0m\u001b[0mbatch\u001b[0m\u001b[0;34m,\u001b[0m \u001b[0mcollate_fn_map\u001b[0m\u001b[0;34m=\u001b[0m\u001b[0mcollate_fn_map\u001b[0m\u001b[0;34m)\u001b[0m\u001b[0;34m\u001b[0m\u001b[0;34m\u001b[0m\u001b[0m\n\u001b[0m\u001b[1;32m    122\u001b[0m \u001b[0;34m\u001b[0m\u001b[0m\n\u001b[1;32m    123\u001b[0m         \u001b[0;32mfor\u001b[0m \u001b[0mcollate_type\u001b[0m \u001b[0;32min\u001b[0m \u001b[0mcollate_fn_map\u001b[0m\u001b[0;34m:\u001b[0m\u001b[0;34m\u001b[0m\u001b[0;34m\u001b[0m\u001b[0m\n",
            "\u001b[0;32m/usr/local/lib/python3.10/dist-packages/torch/utils/data/_utils/collate.py\u001b[0m in \u001b[0;36mcollate_tensor_fn\u001b[0;34m(batch, collate_fn_map)\u001b[0m\n\u001b[1;32m    172\u001b[0m         \u001b[0mstorage\u001b[0m \u001b[0;34m=\u001b[0m \u001b[0melem\u001b[0m\u001b[0;34m.\u001b[0m\u001b[0m_typed_storage\u001b[0m\u001b[0;34m(\u001b[0m\u001b[0;34m)\u001b[0m\u001b[0;34m.\u001b[0m\u001b[0m_new_shared\u001b[0m\u001b[0;34m(\u001b[0m\u001b[0mnumel\u001b[0m\u001b[0;34m,\u001b[0m \u001b[0mdevice\u001b[0m\u001b[0;34m=\u001b[0m\u001b[0melem\u001b[0m\u001b[0;34m.\u001b[0m\u001b[0mdevice\u001b[0m\u001b[0;34m)\u001b[0m\u001b[0;34m\u001b[0m\u001b[0;34m\u001b[0m\u001b[0m\n\u001b[1;32m    173\u001b[0m         \u001b[0mout\u001b[0m \u001b[0;34m=\u001b[0m \u001b[0melem\u001b[0m\u001b[0;34m.\u001b[0m\u001b[0mnew\u001b[0m\u001b[0;34m(\u001b[0m\u001b[0mstorage\u001b[0m\u001b[0;34m)\u001b[0m\u001b[0;34m.\u001b[0m\u001b[0mresize_\u001b[0m\u001b[0;34m(\u001b[0m\u001b[0mlen\u001b[0m\u001b[0;34m(\u001b[0m\u001b[0mbatch\u001b[0m\u001b[0;34m)\u001b[0m\u001b[0;34m,\u001b[0m \u001b[0;34m*\u001b[0m\u001b[0mlist\u001b[0m\u001b[0;34m(\u001b[0m\u001b[0melem\u001b[0m\u001b[0;34m.\u001b[0m\u001b[0msize\u001b[0m\u001b[0;34m(\u001b[0m\u001b[0;34m)\u001b[0m\u001b[0;34m)\u001b[0m\u001b[0;34m)\u001b[0m\u001b[0;34m\u001b[0m\u001b[0;34m\u001b[0m\u001b[0m\n\u001b[0;32m--> 174\u001b[0;31m     \u001b[0;32mreturn\u001b[0m \u001b[0mtorch\u001b[0m\u001b[0;34m.\u001b[0m\u001b[0mstack\u001b[0m\u001b[0;34m(\u001b[0m\u001b[0mbatch\u001b[0m\u001b[0;34m,\u001b[0m \u001b[0;36m0\u001b[0m\u001b[0;34m,\u001b[0m \u001b[0mout\u001b[0m\u001b[0;34m=\u001b[0m\u001b[0mout\u001b[0m\u001b[0;34m)\u001b[0m\u001b[0;34m\u001b[0m\u001b[0;34m\u001b[0m\u001b[0m\n\u001b[0m\u001b[1;32m    175\u001b[0m \u001b[0;34m\u001b[0m\u001b[0m\n\u001b[1;32m    176\u001b[0m \u001b[0;34m\u001b[0m\u001b[0m\n",
            "\u001b[0;31mKeyboardInterrupt\u001b[0m: "
          ]
        }
      ]
    },
    {
      "cell_type": "markdown",
      "metadata": {
        "id": "4iw44jng77Zr"
      },
      "source": [
        "# Fine-Tune\n",
        "\n",
        "different fine-tuning processes. Base Model + Segmentation Head is selected now"
      ]
    },
    {
      "cell_type": "code",
      "execution_count": null,
      "metadata": {
        "id": "cn2OQTGMCTkL"
      },
      "outputs": [],
      "source": [
        "# When initializing your OxfordIIITPet dataset, you can use:\n",
        "transform = Transform()\n",
        "full_dataset = torchvision.datasets.OxfordIIITPet(root=path,\n",
        "                        target_types='segmentation',\n",
        "                        transforms=transform,\n",
        "                        download=True)\n",
        "\n",
        "\n",
        "# Define the size of your training and testing datasets\n",
        "train_size = int(0.8 * len(full_dataset))\n",
        "test_size = len(full_dataset) - train_size\n",
        "\n",
        "# Split the dataset\n",
        "train_dataset, test_dataset = random_split(full_dataset, [train_size, test_size])\n",
        "\n",
        "train_loader = DataLoader(train_dataset, batch_size=4, shuffle=True)\n",
        "test_loader = DataLoader(test_dataset, batch_size=4, shuffle=False)"
      ]
    },
    {
      "cell_type": "code",
      "execution_count": null,
      "metadata": {
        "colab": {
          "base_uri": "https://localhost:8080/"
        },
        "id": "eRWrFDNoDj-n",
        "outputId": "586f3ff4-fea5-4cc6-926d-4d4807fca17f"
      },
      "outputs": [
        {
          "name": "stdout",
          "output_type": "stream",
          "text": [
            "torch.Size([3, 224, 224])\n",
            "torch.Size([224, 224])\n"
          ]
        }
      ],
      "source": [
        "print(train_dataset[0][0].shape)\n",
        "print(train_dataset[0][1].shape)"
      ]
    },
    {
      "cell_type": "code",
      "execution_count": null,
      "metadata": {
        "colab": {
          "base_uri": "https://localhost:8080/",
          "height": 284
        },
        "id": "jzINLJErDj-q",
        "outputId": "cebbfd49-6fb1-4b9d-c021-28d5b58dffa4"
      },
      "outputs": [
        {
          "data": {
            "image/png": "[encoded data removed]",
            "text/plain": [
              "<Figure size 640x480 with 2 Axes>"
            ]
          },
          "metadata": {},
          "output_type": "display_data"
        }
      ],
      "source": [
        "seg_visualize(train_dataset[0])"
      ]
    },
    {
      "cell_type": "markdown",
      "metadata": {
        "id": "VJlggrJ7E4ff"
      },
      "source": [
        "## Base Model + Segmentation Head\n",
        "\n",
        "pre-trained model and the finetuned model have same base model / backbone but different heads"
      ]
    },
    {
      "cell_type": "code",
      "execution_count": null,
      "metadata": {
        "id": "sTIkITP7JxHY"
      },
      "outputs": [],
      "source": [
        "# must sent the pre-trained model tensor to CPU\n",
        "# otherwise the GPU memory occupied by the model will not be released\n",
        "# after torch.cuda.empty_cache()\n",
        "model.to('cpu')"
      ]
    },
    {
      "cell_type": "code",
      "execution_count": null,
      "metadata": {
        "id": "BDDfXDaYE_CL"
      },
      "outputs": [],
      "source": [
        "model = BaseSegmentation(base_model_weights=model.base_model)\n",
        "# model = BaseSegmentation(base_model_weights='pretrain')\n",
        "\n",
        "# set parallel mode for multi GPUs\n",
        "if torch.cuda.device_count() > 1:\n",
        "    print(f\"using {torch.cuda.device_count()} GPUs\")\n",
        "    model = nn.DataParallel(model)\n",
        "\n",
        "model.to(\"cuda\")"
      ]
    },
    {
      "cell_type": "code",
      "execution_count": null,
      "metadata": {
        "id": "FwSeJSy9KABL"
      },
      "outputs": [],
      "source": [
        "# release memory\n",
        "import gc\n",
        "gc.collect()\n",
        "torch.cuda.empty_cache()"
      ]
    },
    {
      "cell_type": "code",
      "execution_count": null,
      "metadata": {
        "id": "84skUBZNF4WM"
      },
      "outputs": [],
      "source": [
        "optimizer = optim.SGD(model.parameters(), lr=1e-3)\n",
        "\n",
        "# Training loop\n",
        "model = model.half()\n",
        "model.train()\n",
        "for epoch in range(1):\n",
        "  for x, y in train_loader:\n",
        "    inputs, targets = x.to(\"cuda\").half(), y.to(\"cuda\")\n",
        "    optimizer.zero_grad()\n",
        "\n",
        "    preds = model(inputs)\n",
        "    loss = dice_loss(preds, targets)\n",
        "    accuracy = pixel_wise_accuracy(preds, targets)\n",
        "\n",
        "    # test\n",
        "    print(loss.item())\n",
        "\n",
        "    loss.backward()\n",
        "\n",
        "    optimizer.step()\n",
        "\n",
        "  print(f'Epoch {epoch+1}, Loss: {loss.item()}, Accuracy: {accuracy}')\n",
        "torch.save(model.state_dict(), path+'BaseSegmentation.pth')"
      ]
    },
    {
      "cell_type": "markdown",
      "metadata": {
        "id": "0T7wuo93x5Cf"
      },
      "source": [
        "## ViTSegmentation (fine-tune)\n",
        "\n",
        "same structure for both pre-trained model and fine-tuned model\n"
      ]
    },
    {
      "cell_type": "markdown",
      "metadata": {
        "id": "S98Blxrkxv10"
      },
      "source": [
        "### half precision: fp16"
      ]
    },
    {
      "cell_type": "code",
      "execution_count": null,
      "metadata": {
        "id": "72cBoRe89hdn"
      },
      "outputs": [],
      "source": [
        "optimizer = optim.SGD(model.parameters(), lr=1e-3)\n",
        "\n",
        "# Training loop\n",
        "for epoch in range(10):\n",
        "    model.train()\n",
        "    for x, y in train_loader:\n",
        "        inputs, targets = x.to(\"cuda\").half(), y.to(\"cuda\")\n",
        "        model = model.half()\n",
        "        optimizer.zero_grad()\n",
        "\n",
        "        preds = model(inputs)\n",
        "        loss = dice_loss(preds, targets)\n",
        "        accuracy = pixel_wise_accuracy(preds, targets)\n",
        "\n",
        "        # test\n",
        "        #print('loss : {:.3f}, accuracy : {:.3f}'.format(loss.item(),accuracy))\n",
        "\n",
        "        loss.backward()\n",
        "\n",
        "        optimizer.step()\n",
        "\n",
        "    print(f'Epoch {epoch+1}, Loss: {loss.item()}, Accuracy: {accuracy}')"
      ]
    },
    {
      "cell_type": "markdown",
      "metadata": {
        "id": "jyzuu0tkxt0g"
      },
      "source": [
        "### mixed precision: fp16+32"
      ]
    },
    {
      "cell_type": "code",
      "execution_count": null,
      "metadata": {
        "id": "63Z1wdtB9eU0"
      },
      "outputs": [],
      "source": [
        "scaler = torch.cuda.amp.GradScaler()"
      ]
    },
    {
      "cell_type": "code",
      "execution_count": null,
      "metadata": {
        "id": "YrSXBbohxfr-"
      },
      "outputs": [],
      "source": [
        "optimizer = optim.Adam(model.parameters(), lr=1e-3)\n",
        "\n",
        "# Training loop\n",
        "for epoch in range(1):\n",
        "    model.train()\n",
        "    for x, y in train_loader:\n",
        "        inputs, targets = x.to(\"cuda\"), y.to(\"cuda\")\n",
        "        optimizer.zero_grad()\n",
        "\n",
        "        with torch.cuda.amp.autocast():\n",
        "            preds = model(inputs)\n",
        "            loss = dice_loss(preds, targets)\n",
        "            accuracy = pixel_wise_accuracy(preds, targets)\n",
        "\n",
        "        # test\n",
        "        print('loss : {:.3f}, accuracy : {:.3f}'.format(loss.item(),accuracy))\n",
        "\n",
        "        scaler.scale(loss).backward()\n",
        "        optimizer.step()\n",
        "\n",
        "    print(f'Epoch {epoch+1}, Loss: {loss.item()}, Accuracy: {accuracy}')"
      ]
    },
    {
      "cell_type": "markdown",
      "metadata": {
        "id": "EqeGreLbCPYO"
      },
      "source": [
        "### test"
      ]
    },
    {
      "cell_type": "code",
      "execution_count": null,
      "metadata": {
        "id": "wPicMAlrLDby"
      },
      "outputs": [],
      "source": [
        "if torch.cuda.device_count() > 1:\n",
        "    for param in model.module.base_model.parameters():\n",
        "        param.requires_grad = False\n",
        "else:\n",
        "    for param in model.base_model.parameters():\n",
        "        param.requires_grad = False"
      ]
    },
    {
      "cell_type": "code",
      "execution_count": null,
      "metadata": {
        "id": "kIYtdo0xMoo-"
      },
      "outputs": [],
      "source": [
        "scaler = torch.cuda.amp.GradScaler()"
      ]
    },
    {
      "cell_type": "code",
      "execution_count": null,
      "metadata": {
        "id": "gQKh7dTSEkym"
      },
      "outputs": [],
      "source": [
        "optimizer = optim.SGD(model.parameters(), lr=1e-3)\n",
        "# Training loop\n",
        "for epoch in range(2):\n",
        "  model.train()\n",
        "  for x, y in train_loader:\n",
        "    inputs, targets = x.to(\"cuda\").half(), y.to(\"cuda\")\n",
        "    model = model.half()\n",
        "    optimizer.zero_grad()\n",
        "\n",
        "    preds = model(inputs)\n",
        "    loss = dice_loss(preds, targets)\n",
        "    accuracy = pixel_wise_accuracy(preds, targets)\n",
        "\n",
        "    print(loss.item())\n",
        "\n",
        "    loss.backward()\n",
        "    optimizer.step()\n",
        "\n",
        "  print(f'Epoch {epoch+1}, Loss: {loss.item()}, Accuracy: {accuracy}')"
      ]
    },
    {
      "cell_type": "markdown",
      "metadata": {
        "id": "r0fzfw7LAxkd"
      },
      "source": [
        "## Masked-Autoencoder\n",
        "\n",
        "Supervised Masked-Autoencoder model\n"
      ]
    },
    {
      "cell_type": "code",
      "execution_count": null,
      "metadata": {
        "id": "kfIQ0cYsndt2"
      },
      "outputs": [],
      "source": [
        "device = \"cuda:0\""
      ]
    },
    {
      "cell_type": "code",
      "execution_count": null,
      "metadata": {
        "id": "6Z1bTFFuEOzf"
      },
      "outputs": [],
      "source": [
        "encoder = vit_b_16(pretrained=True).to(device)\n",
        "decoder = Decoder(1000, 512, 3*224*224).to(device)\n",
        "mae_model = MaskedAutoEncoder(encoder, decoder).to(device)\n",
        "\n",
        "# simple mask\n",
        "mask = torch.rand(size=(1,3,224,224))>.75\n",
        "mask = mask.to(device)"
      ]
    },
    {
      "cell_type": "code",
      "execution_count": null,
      "metadata": {
        "id": "mrwNKKM3JAu9"
      },
      "outputs": [],
      "source": [
        "scaler = torch.cuda.amp.GradScaler()"
      ]
    },
    {
      "cell_type": "code",
      "execution_count": null,
      "metadata": {
        "colab": {
          "base_uri": "https://localhost:8080/"
        },
        "id": "g9kg7PdnFIsj",
        "outputId": "9af47ea1-c85b-4421-8010-76ed65fd8904"
      },
      "outputs": [
        {
          "name": "stdout",
          "output_type": "stream",
          "text": [
            "Epoch 1, Loss: 0.5714879035949707, Accuracy: 0.5376823544502258\n",
            "Epoch 2, Loss: 0.5145551562309265, Accuracy: 0.5769142508506775\n",
            "Epoch 3, Loss: 0.4972738027572632, Accuracy: 0.6139090061187744\n",
            "Epoch 4, Loss: 0.534565806388855, Accuracy: 0.5752251744270325\n",
            "Epoch 5, Loss: 0.5270661115646362, Accuracy: 0.5629534125328064\n",
            "Epoch 6, Loss: 0.49492108821868896, Accuracy: 0.6046964526176453\n",
            "Epoch 7, Loss: 0.561659574508667, Accuracy: 0.5351113677024841\n",
            "Epoch 8, Loss: 0.49849915504455566, Accuracy: 0.6134157776832581\n",
            "Epoch 9, Loss: 0.537715494632721, Accuracy: 0.5837053656578064\n",
            "Epoch 10, Loss: 0.5308352112770081, Accuracy: 0.5691864490509033\n"
          ]
        }
      ],
      "source": [
        "import torch.optim as optim\n",
        "\n",
        "optimizer = optim.SGD(mae_model.parameters(), lr=1e-3)\n",
        "\n",
        "# Training loop\n",
        "for epoch in range(10):\n",
        "    mae_model.train()\n",
        "    for x, y in train_loader:\n",
        "        inputs, targets = x.to(\"cuda\"), y.to(\"cuda\")\n",
        "        #print(inputs.shape, targets.shape)\n",
        "        optimizer.zero_grad()\n",
        "\n",
        "        with torch.cuda.amp.autocast():\n",
        "            preds = mae_model(inputs, mask)\n",
        "            preds = preds.reshape(4, 3, 224, 224)\n",
        "            #print(targets.dtype)\n",
        "            loss = dice_loss(preds, targets)\n",
        "            accuracy = pixel_wise_accuracy(preds, targets)\n",
        "\n",
        "        # test\n",
        "        #print('loss : {:.3f}, accuracy : {:.3f}'.format(loss.item(),accuracy))\n",
        "\n",
        "        scaler.scale(loss).backward()\n",
        "        optimizer.step()\n",
        "\n",
        "    print(f'Epoch {epoch+1}, Loss: {loss.item()}, Accuracy: {accuracy}')\n",
        "\n"
      ]
    },
    {
      "cell_type": "code",
      "execution_count": null,
      "metadata": {
        "colab": {
          "base_uri": "https://localhost:8080/",
          "height": 297
        },
        "id": "HPGJTkNVHQFF",
        "outputId": "fce941b0-0283-41c9-ba3f-afd9ec7d566c"
      },
      "outputs": [
        {
          "name": "stdout",
          "output_type": "stream",
          "text": [
            "loss : 49.781\n",
            "loss : 40.406\n",
            "loss : 26.328\n",
            "loss : 18.469\n",
            "loss : 12.609\n",
            "loss : 7.039\n",
            "loss : 4.586\n"
          ]
        },
        {
          "ename": "NameError",
          "evalue": "name 'accuracy' is not defined",
          "output_type": "error",
          "traceback": [
            "\u001b[0;31m---------------------------------------------------------------------------\u001b[0m",
            "\u001b[0;31mNameError\u001b[0m                                 Traceback (most recent call last)",
            "\u001b[0;32m<ipython-input-14-55cf18f500a0>\u001b[0m in \u001b[0;36m<cell line: 7>\u001b[0;34m()\u001b[0m\n\u001b[1;32m     28\u001b[0m         \u001b[0moptimizer\u001b[0m\u001b[0;34m.\u001b[0m\u001b[0mstep\u001b[0m\u001b[0;34m(\u001b[0m\u001b[0;34m)\u001b[0m\u001b[0;34m\u001b[0m\u001b[0;34m\u001b[0m\u001b[0m\n\u001b[1;32m     29\u001b[0m \u001b[0;34m\u001b[0m\u001b[0m\n\u001b[0;32m---> 30\u001b[0;31m     \u001b[0mprint\u001b[0m\u001b[0;34m(\u001b[0m\u001b[0;34mf'Epoch {epoch+1}, Loss: {loss.item()}, Accuracy: {accuracy}'\u001b[0m\u001b[0;34m)\u001b[0m\u001b[0;34m\u001b[0m\u001b[0;34m\u001b[0m\u001b[0m\n\u001b[0m",
            "\u001b[0;31mNameError\u001b[0m: name 'accuracy' is not defined"
          ]
        }
      ],
      "source": [
        "model = mae_model\n",
        "\n",
        "optimizer = optim.SGD(model.parameters(), lr=1e-3)\n",
        "\n",
        "loss_min = 50\n",
        "# Training loop\n",
        "for epoch in range(1):\n",
        "    model.train()\n",
        "    for x, z1, z2 in dataloader:\n",
        "        inputs, x1, x2 = x.to(\"cuda\").half(), z1.to(\"cuda\").half(), z2.to(\"cuda\").half()\n",
        "        # mask1, mask2 = torch.rand(size=(1,3,224,224))>.75, torch.rand(size=(1,3,224,224))>.75\n",
        "        # mask1, mask2 = mask1.to(device), mask2.to(device)\n",
        "        # x1, x2 = mask1 * inputs, mask2*inputs\n",
        "        model = model.half()\n",
        "        optimizer.zero_grad()\n",
        "\n",
        "        p1, p2 = model(x1, mask).reshape(3,224,224), model(x2, mask).reshape(3,224,224)\n",
        "        loss = contrastive_loss(inputs, p1, p2)\n",
        "        #accuracy = pixel_wise_accuracy(preds, targets)\n",
        "\n",
        "        # test\n",
        "        if loss.item()<loss_min:\n",
        "          loss_min = loss.item()\n",
        "          print('loss : {:.3f}'.format(loss_min))\n",
        "\n",
        "        loss.backward()\n",
        "\n",
        "        optimizer.step()\n",
        "\n",
        "    print(f'Epoch {epoch+1}, Loss: {loss.item()}')"
      ]
    },
    {
      "cell_type": "code",
      "execution_count": null,
      "metadata": {
        "colab": {
          "base_uri": "https://localhost:8080/"
        },
        "id": "EogUkRy_og1d",
        "outputId": "31e0c824-b6ee-4fab-92a6-f6130caf4480"
      },
      "outputs": [
        {
          "name": "stdout",
          "output_type": "stream",
          "text": [
            "Epoch 1, Loss: 59.5625\n"
          ]
        }
      ],
      "source": [
        "print(f'Epoch {epoch+1}, Loss: {loss.item()}')"
      ]
    }
  ],
  "metadata": {
    "colab": {
      "collapsed_sections": [
        "y2dO7EFDPOIf",
        "AzKo7ofKDKsT",
        "XmMMTxHdDISz",
        "gDMM-W5aVdqX",
        "4iw44jng77Zr",
        "0T7wuo93x5Cf",
        "S98Blxrkxv10",
        "jyzuu0tkxt0g",
        "EqeGreLbCPYO",
        "r0fzfw7LAxkd"
      ],
      "provenance": [],
      "machine_shape": "hm"
    },
    "kernelspec": {
      "display_name": "Python 3",
      "name": "python3"
    },
    "language_info": {
      "codemirror_mode": {
        "name": "ipython",
        "version": 3
      },
      "file_extension": ".py",
      "mimetype": "text/x-python",
      "name": "python",
      "nbconvert_exporter": "python",
      "pygments_lexer": "ipython3",
      "version": "3.12.2"
    }
  },
  "nbformat": 4,
  "nbformat_minor": 0
}